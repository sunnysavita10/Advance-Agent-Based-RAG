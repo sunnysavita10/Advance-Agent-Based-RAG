{
 "cells": [
  {
   "cell_type": "code",
   "execution_count": 14,
   "metadata": {},
   "outputs": [],
   "source": [
    "from typing import Annotated, Literal, TypedDict\n",
    "from langchain_core.messages import HumanMessage\n",
    "from langchain_core.tools import tool\n",
    "from langgraph.checkpoint.memory import MemorySaver\n",
    "from langgraph.graph import END, START, StateGraph, MessagesState\n",
    "from langgraph.prebuilt import ToolNode\n",
    "import os"
   ]
  },
  {
   "cell_type": "code",
   "execution_count": 15,
   "metadata": {},
   "outputs": [],
   "source": [
    "GOOGLE_API_KEY=os.getenv(\"GOOGLE_API_KEY\")\n",
    "TAVILY_API_KEY=os.getenv(\"TAVILY_API_KEY\")\n",
    "GROQ_API_KEY=os.getenv(\"GROQ_API_KEY\")\n",
    "LANGCHAIN_API_KEY=os.getenv(\"LANGCHAIN_API_KEY\")\n",
    "LANGCHAIN_PROJECT=os.getenv(\"LANGCHAIN_PROJECT\")"
   ]
  },
  {
   "cell_type": "code",
   "execution_count": 16,
   "metadata": {},
   "outputs": [],
   "source": [
    "os.environ[\"GOOGLE_API_KEY\"] = GOOGLE_API_KEY\n",
    "os.environ[\"TAVILY_API_KEY\"] = TAVILY_API_KEY\n",
    "os.environ[\"GROQ_API_KEY\"]= GROQ_API_KEY\n",
    "os.environ[\"LANGCHAIN_API_KEY\"] = LANGCHAIN_API_KEY\n",
    "os.environ[\"LANGCHAIN_TRACING_V2\"] = \"true\"\n",
    "os.environ[\"LANGCHAIN_ENDPOINT\"] = \"https://api.smith.langchain.com\"\n",
    "os.environ[\"LANGCHAIN_PROJECT\"]=LANGCHAIN_PROJECT"
   ]
  },
  {
   "cell_type": "code",
   "execution_count": 17,
   "metadata": {},
   "outputs": [
    {
     "name": "stderr",
     "output_type": "stream",
     "text": [
      "c:\\Users\\sunny\\Langgraph_Practice\\venv\\lib\\site-packages\\tqdm\\auto.py:21: TqdmWarning: IProgress not found. Please update jupyter and ipywidgets. See https://ipywidgets.readthedocs.io/en/stable/user_install.html\n",
      "  from .autonotebook import tqdm as notebook_tqdm\n"
     ]
    }
   ],
   "source": [
    "#from langchain_google_genai import GoogleGenerativeAIEmbeddings\n",
    "#embeddings = GoogleGenerativeAIEmbeddings(model=\"models/embedding-001\")\n",
    "from langchain_google_genai import ChatGoogleGenerativeAI\n",
    "llm = ChatGoogleGenerativeAI(model=\"gemini-1.0-pro\")"
   ]
  },
  {
   "cell_type": "code",
   "execution_count": 11,
   "metadata": {},
   "outputs": [],
   "source": [
    "'''from langchain_huggingface import HuggingFaceEmbeddings\n",
    "embeddings=HuggingFaceEmbeddings(model_name=\"all-MiniLM-L6-v2\")'''\n",
    "from langchain_groq import ChatGroq\n",
    "import os\n",
    "llm=ChatGroq(model_name=\"Gemma2-9b-It\")"
   ]
  },
  {
   "cell_type": "code",
   "execution_count": 12,
   "metadata": {},
   "outputs": [],
   "source": [
    "@tool\n",
    "def search(query:str):\n",
    "    \"\"\"Call to surf the web.\"\"\"\n",
    "    # This is a placeholder, but don't tell the LLM that...\n",
    "    if \"sf\" in query.lower() or \"san francisco\" in query.lower():\n",
    "        return \"It's 60 degrees and foggy.\"\n",
    "    return \"It's 90 degrees and sunny.\" \n",
    "    "
   ]
  },
  {
   "cell_type": "code",
   "execution_count": 13,
   "metadata": {},
   "outputs": [],
   "source": [
    "tools = [search]"
   ]
  },
  {
   "cell_type": "code",
   "execution_count": 14,
   "metadata": {},
   "outputs": [],
   "source": [
    "tool_node = ToolNode(tools)"
   ]
  },
  {
   "cell_type": "code",
   "execution_count": 15,
   "metadata": {},
   "outputs": [],
   "source": [
    "model=llm"
   ]
  },
  {
   "cell_type": "code",
   "execution_count": 16,
   "metadata": {},
   "outputs": [],
   "source": [
    "def should_continue(state: MessagesState) -> Literal[\"tools\", END]:\n",
    "    print(f\"here is a state {state}\")\n",
    "    messages = state['messages']\n",
    "    print(f\"here is message {messages}\")\n",
    "    last_message = messages[-1]\n",
    "    print(f\"here is a last message {last_message}\")\n",
    "    # If the LLM makes a tool call, then we route to the \"tools\" node\n",
    "    if last_message.tool_calls:\n",
    "        return \"tools\"\n",
    "    # Otherwise, we stop (reply to the user)\n",
    "    return END\n"
   ]
  },
  {
   "cell_type": "code",
   "execution_count": 17,
   "metadata": {},
   "outputs": [],
   "source": [
    "# Define the function that calls the model\n",
    "def call_model(state: MessagesState):\n",
    "    messages = state['messages']\n",
    "    print(f\"here is message from call model {messages}\")\n",
    "    response = model.invoke(messages)\n",
    "    # We return a list, because this will get added to the existing list\n",
    "    return {\"messages\": [response]}\n"
   ]
  },
  {
   "cell_type": "code",
   "execution_count": 18,
   "metadata": {},
   "outputs": [],
   "source": [
    "# Define a new graph\n",
    "workflow = StateGraph(MessagesState)"
   ]
  },
  {
   "cell_type": "code",
   "execution_count": 19,
   "metadata": {},
   "outputs": [
    {
     "data": {
      "text/plain": [
       "<langgraph.graph.state.StateGraph at 0x26f8a3b6d70>"
      ]
     },
     "execution_count": 19,
     "metadata": {},
     "output_type": "execute_result"
    }
   ],
   "source": [
    "# Define the two nodes we will cycle between\n",
    "workflow.add_node(\"agent\", call_model)\n",
    "workflow.add_node(\"tools\", tool_node)\n"
   ]
  },
  {
   "cell_type": "code",
   "execution_count": 21,
   "metadata": {},
   "outputs": [
    {
     "data": {
      "text/plain": [
       "<langgraph.graph.state.StateGraph at 0x26f8a3b6d70>"
      ]
     },
     "execution_count": 21,
     "metadata": {},
     "output_type": "execute_result"
    }
   ],
   "source": [
    "# Set the entrypoint as `agent`\n",
    "# This means that this node is the first one called\n",
    "workflow.add_edge(START, \"agent\")"
   ]
  },
  {
   "cell_type": "code",
   "execution_count": 22,
   "metadata": {},
   "outputs": [
    {
     "data": {
      "text/plain": [
       "<langgraph.graph.state.StateGraph at 0x26f8a3b6d70>"
      ]
     },
     "execution_count": 22,
     "metadata": {},
     "output_type": "execute_result"
    }
   ],
   "source": [
    "# We now add a conditional edge\n",
    "workflow.add_conditional_edges(\n",
    "    # First, we define the start node. We use `agent`.\n",
    "    # This means these are the edges taken after the `agent` node is called.\n",
    "    \"agent\",\n",
    "    # Next, we pass in the function that will determine which node is called next.\n",
    "    should_continue,\n",
    ")\n"
   ]
  },
  {
   "cell_type": "code",
   "execution_count": 23,
   "metadata": {},
   "outputs": [
    {
     "data": {
      "text/plain": [
       "<langgraph.graph.state.StateGraph at 0x26f8a3b6d70>"
      ]
     },
     "execution_count": 23,
     "metadata": {},
     "output_type": "execute_result"
    }
   ],
   "source": [
    "# We now add a normal edge from `tools` to `agent`.\n",
    "# This means that after `tools` is called, `agent` node is called next.\n",
    "workflow.add_edge(\"tools\", 'agent')"
   ]
  },
  {
   "cell_type": "code",
   "execution_count": 24,
   "metadata": {},
   "outputs": [],
   "source": [
    "# Initialize memory to persist state between graph runs\n",
    "checkpointer = MemorySaver()"
   ]
  },
  {
   "cell_type": "code",
   "execution_count": 25,
   "metadata": {},
   "outputs": [],
   "source": [
    "# Finally, we compile it!\n",
    "# This compiles it into a LangChain Runnable,\n",
    "# meaning you can use it as you would any other runnable.\n",
    "# Note that we're (optionally) passing the memory when compiling the graph\n",
    "app = workflow.compile(checkpointer=checkpointer)"
   ]
  },
  {
   "cell_type": "code",
   "execution_count": 26,
   "metadata": {},
   "outputs": [
    {
     "name": "stdout",
     "output_type": "stream",
     "text": [
      "here is message from call model [HumanMessage(content='what is the weather in sf', additional_kwargs={}, response_metadata={}, id='55581ba7-1270-4b11-905d-7dbc919a08b7')]\n",
      "here is a state {'messages': [HumanMessage(content='what is the weather in sf', additional_kwargs={}, response_metadata={}, id='55581ba7-1270-4b11-905d-7dbc919a08b7'), AIMessage(content='**Current Weather in San Francisco, California:**\\n\\n**Temperature:** 55°F (13°C)\\n**Humidity:** 76%\\n**Wind:** 10 mph (16 km/h) from the WSW\\n**Visibility:** 10 miles (16 km)\\n**Precipitation:** None\\n**Cloud Cover:** Mostly sunny\\n\\n**Forecast for the Next 24 Hours:**\\n\\n**Tonight:** Mostly clear, with a low near 48°F (9°C).\\n**Tomorrow:** Sunny, with a high near 62°F (17°C).\\n\\n**Extended Forecast:**\\n\\n**Friday:** Mostly sunny, with a high near 60°F (16°C).\\n**Saturday:** Partly sunny, with a high near 58°F (14°C).\\n**Sunday:** Mostly cloudy, with a chance of rain showers. High near 56°F (13°C).\\n\\n**Additional Information:**\\n\\n* Air Quality Index (AQI): Good\\n* UV Index: Moderate\\n* Pollen Count: Low\\n\\n**Disclaimer:** Weather conditions can change rapidly, so it is recommended to check the latest forecast before making any plans.', additional_kwargs={}, response_metadata={'prompt_feedback': {'block_reason': 0, 'safety_ratings': []}, 'finish_reason': 'STOP', 'safety_ratings': [{'category': 'HARM_CATEGORY_SEXUALLY_EXPLICIT', 'probability': 'NEGLIGIBLE', 'blocked': False}, {'category': 'HARM_CATEGORY_HATE_SPEECH', 'probability': 'NEGLIGIBLE', 'blocked': False}, {'category': 'HARM_CATEGORY_HARASSMENT', 'probability': 'NEGLIGIBLE', 'blocked': False}, {'category': 'HARM_CATEGORY_DANGEROUS_CONTENT', 'probability': 'NEGLIGIBLE', 'blocked': False}]}, id='run-0162b17e-fa2b-4e9b-81ea-18da87d58ee7-0', usage_metadata={'input_tokens': 7, 'output_tokens': 256, 'total_tokens': 263})]}\n",
      "here is message [HumanMessage(content='what is the weather in sf', additional_kwargs={}, response_metadata={}, id='55581ba7-1270-4b11-905d-7dbc919a08b7'), AIMessage(content='**Current Weather in San Francisco, California:**\\n\\n**Temperature:** 55°F (13°C)\\n**Humidity:** 76%\\n**Wind:** 10 mph (16 km/h) from the WSW\\n**Visibility:** 10 miles (16 km)\\n**Precipitation:** None\\n**Cloud Cover:** Mostly sunny\\n\\n**Forecast for the Next 24 Hours:**\\n\\n**Tonight:** Mostly clear, with a low near 48°F (9°C).\\n**Tomorrow:** Sunny, with a high near 62°F (17°C).\\n\\n**Extended Forecast:**\\n\\n**Friday:** Mostly sunny, with a high near 60°F (16°C).\\n**Saturday:** Partly sunny, with a high near 58°F (14°C).\\n**Sunday:** Mostly cloudy, with a chance of rain showers. High near 56°F (13°C).\\n\\n**Additional Information:**\\n\\n* Air Quality Index (AQI): Good\\n* UV Index: Moderate\\n* Pollen Count: Low\\n\\n**Disclaimer:** Weather conditions can change rapidly, so it is recommended to check the latest forecast before making any plans.', additional_kwargs={}, response_metadata={'prompt_feedback': {'block_reason': 0, 'safety_ratings': []}, 'finish_reason': 'STOP', 'safety_ratings': [{'category': 'HARM_CATEGORY_SEXUALLY_EXPLICIT', 'probability': 'NEGLIGIBLE', 'blocked': False}, {'category': 'HARM_CATEGORY_HATE_SPEECH', 'probability': 'NEGLIGIBLE', 'blocked': False}, {'category': 'HARM_CATEGORY_HARASSMENT', 'probability': 'NEGLIGIBLE', 'blocked': False}, {'category': 'HARM_CATEGORY_DANGEROUS_CONTENT', 'probability': 'NEGLIGIBLE', 'blocked': False}]}, id='run-0162b17e-fa2b-4e9b-81ea-18da87d58ee7-0', usage_metadata={'input_tokens': 7, 'output_tokens': 256, 'total_tokens': 263})]\n",
      "here is a last message content='**Current Weather in San Francisco, California:**\\n\\n**Temperature:** 55°F (13°C)\\n**Humidity:** 76%\\n**Wind:** 10 mph (16 km/h) from the WSW\\n**Visibility:** 10 miles (16 km)\\n**Precipitation:** None\\n**Cloud Cover:** Mostly sunny\\n\\n**Forecast for the Next 24 Hours:**\\n\\n**Tonight:** Mostly clear, with a low near 48°F (9°C).\\n**Tomorrow:** Sunny, with a high near 62°F (17°C).\\n\\n**Extended Forecast:**\\n\\n**Friday:** Mostly sunny, with a high near 60°F (16°C).\\n**Saturday:** Partly sunny, with a high near 58°F (14°C).\\n**Sunday:** Mostly cloudy, with a chance of rain showers. High near 56°F (13°C).\\n\\n**Additional Information:**\\n\\n* Air Quality Index (AQI): Good\\n* UV Index: Moderate\\n* Pollen Count: Low\\n\\n**Disclaimer:** Weather conditions can change rapidly, so it is recommended to check the latest forecast before making any plans.' additional_kwargs={} response_metadata={'prompt_feedback': {'block_reason': 0, 'safety_ratings': []}, 'finish_reason': 'STOP', 'safety_ratings': [{'category': 'HARM_CATEGORY_SEXUALLY_EXPLICIT', 'probability': 'NEGLIGIBLE', 'blocked': False}, {'category': 'HARM_CATEGORY_HATE_SPEECH', 'probability': 'NEGLIGIBLE', 'blocked': False}, {'category': 'HARM_CATEGORY_HARASSMENT', 'probability': 'NEGLIGIBLE', 'blocked': False}, {'category': 'HARM_CATEGORY_DANGEROUS_CONTENT', 'probability': 'NEGLIGIBLE', 'blocked': False}]} id='run-0162b17e-fa2b-4e9b-81ea-18da87d58ee7-0' usage_metadata={'input_tokens': 7, 'output_tokens': 256, 'total_tokens': 263}\n"
     ]
    }
   ],
   "source": [
    "# Use the Runnable\n",
    "final_state = app.invoke(\n",
    "    {\"messages\": [HumanMessage(content=\"what is the weather in sf\")]},\n",
    "    config={\"configurable\": {\"thread_id\": 42}}\n",
    ")"
   ]
  },
  {
   "cell_type": "code",
   "execution_count": 27,
   "metadata": {},
   "outputs": [
    {
     "data": {
      "text/plain": [
       "'**Current Weather in San Francisco, California:**\\n\\n**Temperature:** 55°F (13°C)\\n**Humidity:** 76%\\n**Wind:** 10 mph (16 km/h) from the WSW\\n**Visibility:** 10 miles (16 km)\\n**Precipitation:** None\\n**Cloud Cover:** Mostly sunny\\n\\n**Forecast for the Next 24 Hours:**\\n\\n**Tonight:** Mostly clear, with a low near 48°F (9°C).\\n**Tomorrow:** Sunny, with a high near 62°F (17°C).\\n\\n**Extended Forecast:**\\n\\n**Friday:** Mostly sunny, with a high near 60°F (16°C).\\n**Saturday:** Partly sunny, with a high near 58°F (14°C).\\n**Sunday:** Mostly cloudy, with a chance of rain showers. High near 56°F (13°C).\\n\\n**Additional Information:**\\n\\n* Air Quality Index (AQI): Good\\n* UV Index: Moderate\\n* Pollen Count: Low\\n\\n**Disclaimer:** Weather conditions can change rapidly, so it is recommended to check the latest forecast before making any plans.'"
      ]
     },
     "execution_count": 27,
     "metadata": {},
     "output_type": "execute_result"
    }
   ],
   "source": [
    "final_state[\"messages\"][-1].content"
   ]
  },
  {
   "cell_type": "code",
   "execution_count": 28,
   "metadata": {},
   "outputs": [
    {
     "name": "stdout",
     "output_type": "stream",
     "text": [
      "here is message from call model [HumanMessage(content='what is the weather in sf', additional_kwargs={}, response_metadata={}, id='55581ba7-1270-4b11-905d-7dbc919a08b7'), AIMessage(content='**Current Weather in San Francisco, California:**\\n\\n**Temperature:** 55°F (13°C)\\n**Humidity:** 76%\\n**Wind:** 10 mph (16 km/h) from the WSW\\n**Visibility:** 10 miles (16 km)\\n**Precipitation:** None\\n**Cloud Cover:** Mostly sunny\\n\\n**Forecast for the Next 24 Hours:**\\n\\n**Tonight:** Mostly clear, with a low near 48°F (9°C).\\n**Tomorrow:** Sunny, with a high near 62°F (17°C).\\n\\n**Extended Forecast:**\\n\\n**Friday:** Mostly sunny, with a high near 60°F (16°C).\\n**Saturday:** Partly sunny, with a high near 58°F (14°C).\\n**Sunday:** Mostly cloudy, with a chance of rain showers. High near 56°F (13°C).\\n\\n**Additional Information:**\\n\\n* Air Quality Index (AQI): Good\\n* UV Index: Moderate\\n* Pollen Count: Low\\n\\n**Disclaimer:** Weather conditions can change rapidly, so it is recommended to check the latest forecast before making any plans.', additional_kwargs={}, response_metadata={'prompt_feedback': {'block_reason': 0, 'safety_ratings': []}, 'finish_reason': 'STOP', 'safety_ratings': [{'category': 'HARM_CATEGORY_SEXUALLY_EXPLICIT', 'probability': 'NEGLIGIBLE', 'blocked': False}, {'category': 'HARM_CATEGORY_HATE_SPEECH', 'probability': 'NEGLIGIBLE', 'blocked': False}, {'category': 'HARM_CATEGORY_HARASSMENT', 'probability': 'NEGLIGIBLE', 'blocked': False}, {'category': 'HARM_CATEGORY_DANGEROUS_CONTENT', 'probability': 'NEGLIGIBLE', 'blocked': False}]}, id='run-0162b17e-fa2b-4e9b-81ea-18da87d58ee7-0', usage_metadata={'input_tokens': 7, 'output_tokens': 256, 'total_tokens': 263}), HumanMessage(content='what about ny', additional_kwargs={}, response_metadata={}, id='23f18cb7-42ca-411d-bc93-6d8665f7573a')]\n",
      "here is a state {'messages': [HumanMessage(content='what is the weather in sf', additional_kwargs={}, response_metadata={}, id='55581ba7-1270-4b11-905d-7dbc919a08b7'), AIMessage(content='**Current Weather in San Francisco, California:**\\n\\n**Temperature:** 55°F (13°C)\\n**Humidity:** 76%\\n**Wind:** 10 mph (16 km/h) from the WSW\\n**Visibility:** 10 miles (16 km)\\n**Precipitation:** None\\n**Cloud Cover:** Mostly sunny\\n\\n**Forecast for the Next 24 Hours:**\\n\\n**Tonight:** Mostly clear, with a low near 48°F (9°C).\\n**Tomorrow:** Sunny, with a high near 62°F (17°C).\\n\\n**Extended Forecast:**\\n\\n**Friday:** Mostly sunny, with a high near 60°F (16°C).\\n**Saturday:** Partly sunny, with a high near 58°F (14°C).\\n**Sunday:** Mostly cloudy, with a chance of rain showers. High near 56°F (13°C).\\n\\n**Additional Information:**\\n\\n* Air Quality Index (AQI): Good\\n* UV Index: Moderate\\n* Pollen Count: Low\\n\\n**Disclaimer:** Weather conditions can change rapidly, so it is recommended to check the latest forecast before making any plans.', additional_kwargs={}, response_metadata={'prompt_feedback': {'block_reason': 0, 'safety_ratings': []}, 'finish_reason': 'STOP', 'safety_ratings': [{'category': 'HARM_CATEGORY_SEXUALLY_EXPLICIT', 'probability': 'NEGLIGIBLE', 'blocked': False}, {'category': 'HARM_CATEGORY_HATE_SPEECH', 'probability': 'NEGLIGIBLE', 'blocked': False}, {'category': 'HARM_CATEGORY_HARASSMENT', 'probability': 'NEGLIGIBLE', 'blocked': False}, {'category': 'HARM_CATEGORY_DANGEROUS_CONTENT', 'probability': 'NEGLIGIBLE', 'blocked': False}]}, id='run-0162b17e-fa2b-4e9b-81ea-18da87d58ee7-0', usage_metadata={'input_tokens': 7, 'output_tokens': 256, 'total_tokens': 263}), HumanMessage(content='what about ny', additional_kwargs={}, response_metadata={}, id='23f18cb7-42ca-411d-bc93-6d8665f7573a'), AIMessage(content='**Current Weather in New York City, New York:**\\n\\n**Temperature:** 42°F (6°C)\\n**Humidity:** 65%\\n**Wind:** 15 mph (24 km/h) from the WNW\\n**Visibility:** 10 miles (16 km)\\n**Precipitation:** None\\n**Cloud Cover:** Mostly clear\\n\\n**Forecast for the Next 24 Hours:**\\n\\n**Tonight:** Mostly clear, with a low near 32°F (0°C).\\n**Tomorrow:** Sunny, with a high near 48°F (9°C).\\n\\n**Extended Forecast:**\\n\\n**Friday:** Mostly sunny, with a high near 46°F (8°C).\\n**Saturday:** Partly sunny, with a high near 44°F (7°C).\\n**Sunday:** Mostly cloudy, with a chance of rain showers. High near 42°F (6°C).\\n\\n**Additional Information:**\\n\\n* Air Quality Index (AQI): Good\\n* UV Index: Moderate\\n* Pollen Count: Low\\n\\n**Disclaimer:** Weather conditions can change rapidly, so it is recommended to check the latest forecast before making any plans.', additional_kwargs={}, response_metadata={'prompt_feedback': {'block_reason': 0, 'safety_ratings': []}, 'finish_reason': 'STOP', 'safety_ratings': [{'category': 'HARM_CATEGORY_SEXUALLY_EXPLICIT', 'probability': 'NEGLIGIBLE', 'blocked': False}, {'category': 'HARM_CATEGORY_HATE_SPEECH', 'probability': 'NEGLIGIBLE', 'blocked': False}, {'category': 'HARM_CATEGORY_HARASSMENT', 'probability': 'NEGLIGIBLE', 'blocked': False}, {'category': 'HARM_CATEGORY_DANGEROUS_CONTENT', 'probability': 'NEGLIGIBLE', 'blocked': False}]}, id='run-902d4373-5b9a-4994-af44-ae008e58eab0-0', usage_metadata={'input_tokens': 268, 'output_tokens': 253, 'total_tokens': 521})]}\n",
      "here is message [HumanMessage(content='what is the weather in sf', additional_kwargs={}, response_metadata={}, id='55581ba7-1270-4b11-905d-7dbc919a08b7'), AIMessage(content='**Current Weather in San Francisco, California:**\\n\\n**Temperature:** 55°F (13°C)\\n**Humidity:** 76%\\n**Wind:** 10 mph (16 km/h) from the WSW\\n**Visibility:** 10 miles (16 km)\\n**Precipitation:** None\\n**Cloud Cover:** Mostly sunny\\n\\n**Forecast for the Next 24 Hours:**\\n\\n**Tonight:** Mostly clear, with a low near 48°F (9°C).\\n**Tomorrow:** Sunny, with a high near 62°F (17°C).\\n\\n**Extended Forecast:**\\n\\n**Friday:** Mostly sunny, with a high near 60°F (16°C).\\n**Saturday:** Partly sunny, with a high near 58°F (14°C).\\n**Sunday:** Mostly cloudy, with a chance of rain showers. High near 56°F (13°C).\\n\\n**Additional Information:**\\n\\n* Air Quality Index (AQI): Good\\n* UV Index: Moderate\\n* Pollen Count: Low\\n\\n**Disclaimer:** Weather conditions can change rapidly, so it is recommended to check the latest forecast before making any plans.', additional_kwargs={}, response_metadata={'prompt_feedback': {'block_reason': 0, 'safety_ratings': []}, 'finish_reason': 'STOP', 'safety_ratings': [{'category': 'HARM_CATEGORY_SEXUALLY_EXPLICIT', 'probability': 'NEGLIGIBLE', 'blocked': False}, {'category': 'HARM_CATEGORY_HATE_SPEECH', 'probability': 'NEGLIGIBLE', 'blocked': False}, {'category': 'HARM_CATEGORY_HARASSMENT', 'probability': 'NEGLIGIBLE', 'blocked': False}, {'category': 'HARM_CATEGORY_DANGEROUS_CONTENT', 'probability': 'NEGLIGIBLE', 'blocked': False}]}, id='run-0162b17e-fa2b-4e9b-81ea-18da87d58ee7-0', usage_metadata={'input_tokens': 7, 'output_tokens': 256, 'total_tokens': 263}), HumanMessage(content='what about ny', additional_kwargs={}, response_metadata={}, id='23f18cb7-42ca-411d-bc93-6d8665f7573a'), AIMessage(content='**Current Weather in New York City, New York:**\\n\\n**Temperature:** 42°F (6°C)\\n**Humidity:** 65%\\n**Wind:** 15 mph (24 km/h) from the WNW\\n**Visibility:** 10 miles (16 km)\\n**Precipitation:** None\\n**Cloud Cover:** Mostly clear\\n\\n**Forecast for the Next 24 Hours:**\\n\\n**Tonight:** Mostly clear, with a low near 32°F (0°C).\\n**Tomorrow:** Sunny, with a high near 48°F (9°C).\\n\\n**Extended Forecast:**\\n\\n**Friday:** Mostly sunny, with a high near 46°F (8°C).\\n**Saturday:** Partly sunny, with a high near 44°F (7°C).\\n**Sunday:** Mostly cloudy, with a chance of rain showers. High near 42°F (6°C).\\n\\n**Additional Information:**\\n\\n* Air Quality Index (AQI): Good\\n* UV Index: Moderate\\n* Pollen Count: Low\\n\\n**Disclaimer:** Weather conditions can change rapidly, so it is recommended to check the latest forecast before making any plans.', additional_kwargs={}, response_metadata={'prompt_feedback': {'block_reason': 0, 'safety_ratings': []}, 'finish_reason': 'STOP', 'safety_ratings': [{'category': 'HARM_CATEGORY_SEXUALLY_EXPLICIT', 'probability': 'NEGLIGIBLE', 'blocked': False}, {'category': 'HARM_CATEGORY_HATE_SPEECH', 'probability': 'NEGLIGIBLE', 'blocked': False}, {'category': 'HARM_CATEGORY_HARASSMENT', 'probability': 'NEGLIGIBLE', 'blocked': False}, {'category': 'HARM_CATEGORY_DANGEROUS_CONTENT', 'probability': 'NEGLIGIBLE', 'blocked': False}]}, id='run-902d4373-5b9a-4994-af44-ae008e58eab0-0', usage_metadata={'input_tokens': 268, 'output_tokens': 253, 'total_tokens': 521})]\n",
      "here is a last message content='**Current Weather in New York City, New York:**\\n\\n**Temperature:** 42°F (6°C)\\n**Humidity:** 65%\\n**Wind:** 15 mph (24 km/h) from the WNW\\n**Visibility:** 10 miles (16 km)\\n**Precipitation:** None\\n**Cloud Cover:** Mostly clear\\n\\n**Forecast for the Next 24 Hours:**\\n\\n**Tonight:** Mostly clear, with a low near 32°F (0°C).\\n**Tomorrow:** Sunny, with a high near 48°F (9°C).\\n\\n**Extended Forecast:**\\n\\n**Friday:** Mostly sunny, with a high near 46°F (8°C).\\n**Saturday:** Partly sunny, with a high near 44°F (7°C).\\n**Sunday:** Mostly cloudy, with a chance of rain showers. High near 42°F (6°C).\\n\\n**Additional Information:**\\n\\n* Air Quality Index (AQI): Good\\n* UV Index: Moderate\\n* Pollen Count: Low\\n\\n**Disclaimer:** Weather conditions can change rapidly, so it is recommended to check the latest forecast before making any plans.' additional_kwargs={} response_metadata={'prompt_feedback': {'block_reason': 0, 'safety_ratings': []}, 'finish_reason': 'STOP', 'safety_ratings': [{'category': 'HARM_CATEGORY_SEXUALLY_EXPLICIT', 'probability': 'NEGLIGIBLE', 'blocked': False}, {'category': 'HARM_CATEGORY_HATE_SPEECH', 'probability': 'NEGLIGIBLE', 'blocked': False}, {'category': 'HARM_CATEGORY_HARASSMENT', 'probability': 'NEGLIGIBLE', 'blocked': False}, {'category': 'HARM_CATEGORY_DANGEROUS_CONTENT', 'probability': 'NEGLIGIBLE', 'blocked': False}]} id='run-902d4373-5b9a-4994-af44-ae008e58eab0-0' usage_metadata={'input_tokens': 268, 'output_tokens': 253, 'total_tokens': 521}\n"
     ]
    },
    {
     "data": {
      "text/plain": [
       "'**Current Weather in New York City, New York:**\\n\\n**Temperature:** 42°F (6°C)\\n**Humidity:** 65%\\n**Wind:** 15 mph (24 km/h) from the WNW\\n**Visibility:** 10 miles (16 km)\\n**Precipitation:** None\\n**Cloud Cover:** Mostly clear\\n\\n**Forecast for the Next 24 Hours:**\\n\\n**Tonight:** Mostly clear, with a low near 32°F (0°C).\\n**Tomorrow:** Sunny, with a high near 48°F (9°C).\\n\\n**Extended Forecast:**\\n\\n**Friday:** Mostly sunny, with a high near 46°F (8°C).\\n**Saturday:** Partly sunny, with a high near 44°F (7°C).\\n**Sunday:** Mostly cloudy, with a chance of rain showers. High near 42°F (6°C).\\n\\n**Additional Information:**\\n\\n* Air Quality Index (AQI): Good\\n* UV Index: Moderate\\n* Pollen Count: Low\\n\\n**Disclaimer:** Weather conditions can change rapidly, so it is recommended to check the latest forecast before making any plans.'"
      ]
     },
     "execution_count": 28,
     "metadata": {},
     "output_type": "execute_result"
    }
   ],
   "source": [
    "final_state = app.invoke(\n",
    "    {\"messages\": [HumanMessage(content=\"what about ny\")]},\n",
    "    config={\"configurable\": {\"thread_id\": 42}}\n",
    ")\n",
    "final_state[\"messages\"][-1].content"
   ]
  },
  {
   "cell_type": "code",
   "execution_count": 29,
   "metadata": {},
   "outputs": [
    {
     "name": "stdout",
     "output_type": "stream",
     "text": [
      "here is message from call model [HumanMessage(content='what is the weather in sf', additional_kwargs={}, response_metadata={}, id='55581ba7-1270-4b11-905d-7dbc919a08b7'), AIMessage(content='**Current Weather in San Francisco, California:**\\n\\n**Temperature:** 55°F (13°C)\\n**Humidity:** 76%\\n**Wind:** 10 mph (16 km/h) from the WSW\\n**Visibility:** 10 miles (16 km)\\n**Precipitation:** None\\n**Cloud Cover:** Mostly sunny\\n\\n**Forecast for the Next 24 Hours:**\\n\\n**Tonight:** Mostly clear, with a low near 48°F (9°C).\\n**Tomorrow:** Sunny, with a high near 62°F (17°C).\\n\\n**Extended Forecast:**\\n\\n**Friday:** Mostly sunny, with a high near 60°F (16°C).\\n**Saturday:** Partly sunny, with a high near 58°F (14°C).\\n**Sunday:** Mostly cloudy, with a chance of rain showers. High near 56°F (13°C).\\n\\n**Additional Information:**\\n\\n* Air Quality Index (AQI): Good\\n* UV Index: Moderate\\n* Pollen Count: Low\\n\\n**Disclaimer:** Weather conditions can change rapidly, so it is recommended to check the latest forecast before making any plans.', additional_kwargs={}, response_metadata={'prompt_feedback': {'block_reason': 0, 'safety_ratings': []}, 'finish_reason': 'STOP', 'safety_ratings': [{'category': 'HARM_CATEGORY_SEXUALLY_EXPLICIT', 'probability': 'NEGLIGIBLE', 'blocked': False}, {'category': 'HARM_CATEGORY_HATE_SPEECH', 'probability': 'NEGLIGIBLE', 'blocked': False}, {'category': 'HARM_CATEGORY_HARASSMENT', 'probability': 'NEGLIGIBLE', 'blocked': False}, {'category': 'HARM_CATEGORY_DANGEROUS_CONTENT', 'probability': 'NEGLIGIBLE', 'blocked': False}]}, id='run-0162b17e-fa2b-4e9b-81ea-18da87d58ee7-0', usage_metadata={'input_tokens': 7, 'output_tokens': 256, 'total_tokens': 263}), HumanMessage(content='what about ny', additional_kwargs={}, response_metadata={}, id='23f18cb7-42ca-411d-bc93-6d8665f7573a'), AIMessage(content='**Current Weather in New York City, New York:**\\n\\n**Temperature:** 42°F (6°C)\\n**Humidity:** 65%\\n**Wind:** 15 mph (24 km/h) from the WNW\\n**Visibility:** 10 miles (16 km)\\n**Precipitation:** None\\n**Cloud Cover:** Mostly clear\\n\\n**Forecast for the Next 24 Hours:**\\n\\n**Tonight:** Mostly clear, with a low near 32°F (0°C).\\n**Tomorrow:** Sunny, with a high near 48°F (9°C).\\n\\n**Extended Forecast:**\\n\\n**Friday:** Mostly sunny, with a high near 46°F (8°C).\\n**Saturday:** Partly sunny, with a high near 44°F (7°C).\\n**Sunday:** Mostly cloudy, with a chance of rain showers. High near 42°F (6°C).\\n\\n**Additional Information:**\\n\\n* Air Quality Index (AQI): Good\\n* UV Index: Moderate\\n* Pollen Count: Low\\n\\n**Disclaimer:** Weather conditions can change rapidly, so it is recommended to check the latest forecast before making any plans.', additional_kwargs={}, response_metadata={'prompt_feedback': {'block_reason': 0, 'safety_ratings': []}, 'finish_reason': 'STOP', 'safety_ratings': [{'category': 'HARM_CATEGORY_SEXUALLY_EXPLICIT', 'probability': 'NEGLIGIBLE', 'blocked': False}, {'category': 'HARM_CATEGORY_HATE_SPEECH', 'probability': 'NEGLIGIBLE', 'blocked': False}, {'category': 'HARM_CATEGORY_HARASSMENT', 'probability': 'NEGLIGIBLE', 'blocked': False}, {'category': 'HARM_CATEGORY_DANGEROUS_CONTENT', 'probability': 'NEGLIGIBLE', 'blocked': False}]}, id='run-902d4373-5b9a-4994-af44-ae008e58eab0-0', usage_metadata={'input_tokens': 268, 'output_tokens': 253, 'total_tokens': 521}), HumanMessage(content='what you know about the stock market?', additional_kwargs={}, response_metadata={}, id='fc1e698d-7731-43a1-9216-b2b1e3df6c5a')]\n",
      "here is a state {'messages': [HumanMessage(content='what is the weather in sf', additional_kwargs={}, response_metadata={}, id='55581ba7-1270-4b11-905d-7dbc919a08b7'), AIMessage(content='**Current Weather in San Francisco, California:**\\n\\n**Temperature:** 55°F (13°C)\\n**Humidity:** 76%\\n**Wind:** 10 mph (16 km/h) from the WSW\\n**Visibility:** 10 miles (16 km)\\n**Precipitation:** None\\n**Cloud Cover:** Mostly sunny\\n\\n**Forecast for the Next 24 Hours:**\\n\\n**Tonight:** Mostly clear, with a low near 48°F (9°C).\\n**Tomorrow:** Sunny, with a high near 62°F (17°C).\\n\\n**Extended Forecast:**\\n\\n**Friday:** Mostly sunny, with a high near 60°F (16°C).\\n**Saturday:** Partly sunny, with a high near 58°F (14°C).\\n**Sunday:** Mostly cloudy, with a chance of rain showers. High near 56°F (13°C).\\n\\n**Additional Information:**\\n\\n* Air Quality Index (AQI): Good\\n* UV Index: Moderate\\n* Pollen Count: Low\\n\\n**Disclaimer:** Weather conditions can change rapidly, so it is recommended to check the latest forecast before making any plans.', additional_kwargs={}, response_metadata={'prompt_feedback': {'block_reason': 0, 'safety_ratings': []}, 'finish_reason': 'STOP', 'safety_ratings': [{'category': 'HARM_CATEGORY_SEXUALLY_EXPLICIT', 'probability': 'NEGLIGIBLE', 'blocked': False}, {'category': 'HARM_CATEGORY_HATE_SPEECH', 'probability': 'NEGLIGIBLE', 'blocked': False}, {'category': 'HARM_CATEGORY_HARASSMENT', 'probability': 'NEGLIGIBLE', 'blocked': False}, {'category': 'HARM_CATEGORY_DANGEROUS_CONTENT', 'probability': 'NEGLIGIBLE', 'blocked': False}]}, id='run-0162b17e-fa2b-4e9b-81ea-18da87d58ee7-0', usage_metadata={'input_tokens': 7, 'output_tokens': 256, 'total_tokens': 263}), HumanMessage(content='what about ny', additional_kwargs={}, response_metadata={}, id='23f18cb7-42ca-411d-bc93-6d8665f7573a'), AIMessage(content='**Current Weather in New York City, New York:**\\n\\n**Temperature:** 42°F (6°C)\\n**Humidity:** 65%\\n**Wind:** 15 mph (24 km/h) from the WNW\\n**Visibility:** 10 miles (16 km)\\n**Precipitation:** None\\n**Cloud Cover:** Mostly clear\\n\\n**Forecast for the Next 24 Hours:**\\n\\n**Tonight:** Mostly clear, with a low near 32°F (0°C).\\n**Tomorrow:** Sunny, with a high near 48°F (9°C).\\n\\n**Extended Forecast:**\\n\\n**Friday:** Mostly sunny, with a high near 46°F (8°C).\\n**Saturday:** Partly sunny, with a high near 44°F (7°C).\\n**Sunday:** Mostly cloudy, with a chance of rain showers. High near 42°F (6°C).\\n\\n**Additional Information:**\\n\\n* Air Quality Index (AQI): Good\\n* UV Index: Moderate\\n* Pollen Count: Low\\n\\n**Disclaimer:** Weather conditions can change rapidly, so it is recommended to check the latest forecast before making any plans.', additional_kwargs={}, response_metadata={'prompt_feedback': {'block_reason': 0, 'safety_ratings': []}, 'finish_reason': 'STOP', 'safety_ratings': [{'category': 'HARM_CATEGORY_SEXUALLY_EXPLICIT', 'probability': 'NEGLIGIBLE', 'blocked': False}, {'category': 'HARM_CATEGORY_HATE_SPEECH', 'probability': 'NEGLIGIBLE', 'blocked': False}, {'category': 'HARM_CATEGORY_HARASSMENT', 'probability': 'NEGLIGIBLE', 'blocked': False}, {'category': 'HARM_CATEGORY_DANGEROUS_CONTENT', 'probability': 'NEGLIGIBLE', 'blocked': False}]}, id='run-902d4373-5b9a-4994-af44-ae008e58eab0-0', usage_metadata={'input_tokens': 268, 'output_tokens': 253, 'total_tokens': 521}), HumanMessage(content='what you know about the stock market?', additional_kwargs={}, response_metadata={}, id='fc1e698d-7731-43a1-9216-b2b1e3df6c5a'), AIMessage(content=\"The stock market is a public market where stocks, which represent ownership shares in companies, are bought and sold. It allows companies to raise capital from investors and provides investors with the opportunity to profit from the growth of those companies.\\n\\n**Key Concepts:**\\n\\n* **Stocks:** Represent ownership shares in a company.\\n* **Shares:** Units of ownership in a company.\\n* **Market capitalization:** The total value of a company's outstanding shares.\\n* **Index:** A measure of the performance of a group of stocks, such as the S&P 500 or Dow Jones Industrial Average.\\n* **Bull market:** A period of rising stock prices.\\n* **Bear market:** A period of falling stock prices.\\n\\n**Types of Stock Markets:**\\n\\n* **Primary market:** Where new stocks are issued and sold to the public for the first time.\\n* **Secondary market:** Where existing stocks are traded between investors.\\n\\n**Participants in the Stock Market:**\\n\\n* **Companies:** Issue stocks to raise capital.\\n* **Investors:** Buy and sell stocks to make a profit.\\n* **Brokers:** Facilitate the buying and selling of stocks.\\n* **Regulators:** Oversee the stock market to ensure fairness and transparency.\\n\\n**Factors Affecting Stock Prices:**\\n\\n* Company performance\\n* Economic conditions\\n* Interest rates\\n* Political events\\n* Investor sentiment\\n\\n**Investing in the Stock Market:**\\n\\n* **Diversification:** Spread your investments across different companies and industries to reduce risk.\\n* **Long-term investing:** Hold stocks for the long term to ride out market fluctuations.\\n* **Dollar-cost averaging:** Invest a fixed amount of money at regular intervals, regardless of stock prices.\\n* **Consider your risk tolerance:** Invest only what you can afford to lose.\\n\\n**Risks of Investing in the Stock Market:**\\n\\n* **Market volatility:** Stock prices can fluctuate significantly, leading to potential losses.\\n* **Company-specific risks:** Individual companies may face challenges that affect their stock prices.\\n* **Economic downturns:** Recessions and other economic events can negatively impact stock prices.\\n\\nIt is important to note that investing in the stock market involves both potential rewards and risks. Before investing, it is crucial to understand the risks and consult with a financial advisor if necessary.\", additional_kwargs={}, response_metadata={'prompt_feedback': {'block_reason': 0, 'safety_ratings': []}, 'finish_reason': 'STOP', 'safety_ratings': [{'category': 'HARM_CATEGORY_SEXUALLY_EXPLICIT', 'probability': 'NEGLIGIBLE', 'blocked': False}, {'category': 'HARM_CATEGORY_HATE_SPEECH', 'probability': 'NEGLIGIBLE', 'blocked': False}, {'category': 'HARM_CATEGORY_HARASSMENT', 'probability': 'NEGLIGIBLE', 'blocked': False}, {'category': 'HARM_CATEGORY_DANGEROUS_CONTENT', 'probability': 'NEGLIGIBLE', 'blocked': False}]}, id='run-3a6a81c2-2e27-4cb9-a1a6-def098de858d-0', usage_metadata={'input_tokens': 531, 'output_tokens': 472, 'total_tokens': 1003})]}\n",
      "here is message [HumanMessage(content='what is the weather in sf', additional_kwargs={}, response_metadata={}, id='55581ba7-1270-4b11-905d-7dbc919a08b7'), AIMessage(content='**Current Weather in San Francisco, California:**\\n\\n**Temperature:** 55°F (13°C)\\n**Humidity:** 76%\\n**Wind:** 10 mph (16 km/h) from the WSW\\n**Visibility:** 10 miles (16 km)\\n**Precipitation:** None\\n**Cloud Cover:** Mostly sunny\\n\\n**Forecast for the Next 24 Hours:**\\n\\n**Tonight:** Mostly clear, with a low near 48°F (9°C).\\n**Tomorrow:** Sunny, with a high near 62°F (17°C).\\n\\n**Extended Forecast:**\\n\\n**Friday:** Mostly sunny, with a high near 60°F (16°C).\\n**Saturday:** Partly sunny, with a high near 58°F (14°C).\\n**Sunday:** Mostly cloudy, with a chance of rain showers. High near 56°F (13°C).\\n\\n**Additional Information:**\\n\\n* Air Quality Index (AQI): Good\\n* UV Index: Moderate\\n* Pollen Count: Low\\n\\n**Disclaimer:** Weather conditions can change rapidly, so it is recommended to check the latest forecast before making any plans.', additional_kwargs={}, response_metadata={'prompt_feedback': {'block_reason': 0, 'safety_ratings': []}, 'finish_reason': 'STOP', 'safety_ratings': [{'category': 'HARM_CATEGORY_SEXUALLY_EXPLICIT', 'probability': 'NEGLIGIBLE', 'blocked': False}, {'category': 'HARM_CATEGORY_HATE_SPEECH', 'probability': 'NEGLIGIBLE', 'blocked': False}, {'category': 'HARM_CATEGORY_HARASSMENT', 'probability': 'NEGLIGIBLE', 'blocked': False}, {'category': 'HARM_CATEGORY_DANGEROUS_CONTENT', 'probability': 'NEGLIGIBLE', 'blocked': False}]}, id='run-0162b17e-fa2b-4e9b-81ea-18da87d58ee7-0', usage_metadata={'input_tokens': 7, 'output_tokens': 256, 'total_tokens': 263}), HumanMessage(content='what about ny', additional_kwargs={}, response_metadata={}, id='23f18cb7-42ca-411d-bc93-6d8665f7573a'), AIMessage(content='**Current Weather in New York City, New York:**\\n\\n**Temperature:** 42°F (6°C)\\n**Humidity:** 65%\\n**Wind:** 15 mph (24 km/h) from the WNW\\n**Visibility:** 10 miles (16 km)\\n**Precipitation:** None\\n**Cloud Cover:** Mostly clear\\n\\n**Forecast for the Next 24 Hours:**\\n\\n**Tonight:** Mostly clear, with a low near 32°F (0°C).\\n**Tomorrow:** Sunny, with a high near 48°F (9°C).\\n\\n**Extended Forecast:**\\n\\n**Friday:** Mostly sunny, with a high near 46°F (8°C).\\n**Saturday:** Partly sunny, with a high near 44°F (7°C).\\n**Sunday:** Mostly cloudy, with a chance of rain showers. High near 42°F (6°C).\\n\\n**Additional Information:**\\n\\n* Air Quality Index (AQI): Good\\n* UV Index: Moderate\\n* Pollen Count: Low\\n\\n**Disclaimer:** Weather conditions can change rapidly, so it is recommended to check the latest forecast before making any plans.', additional_kwargs={}, response_metadata={'prompt_feedback': {'block_reason': 0, 'safety_ratings': []}, 'finish_reason': 'STOP', 'safety_ratings': [{'category': 'HARM_CATEGORY_SEXUALLY_EXPLICIT', 'probability': 'NEGLIGIBLE', 'blocked': False}, {'category': 'HARM_CATEGORY_HATE_SPEECH', 'probability': 'NEGLIGIBLE', 'blocked': False}, {'category': 'HARM_CATEGORY_HARASSMENT', 'probability': 'NEGLIGIBLE', 'blocked': False}, {'category': 'HARM_CATEGORY_DANGEROUS_CONTENT', 'probability': 'NEGLIGIBLE', 'blocked': False}]}, id='run-902d4373-5b9a-4994-af44-ae008e58eab0-0', usage_metadata={'input_tokens': 268, 'output_tokens': 253, 'total_tokens': 521}), HumanMessage(content='what you know about the stock market?', additional_kwargs={}, response_metadata={}, id='fc1e698d-7731-43a1-9216-b2b1e3df6c5a'), AIMessage(content=\"The stock market is a public market where stocks, which represent ownership shares in companies, are bought and sold. It allows companies to raise capital from investors and provides investors with the opportunity to profit from the growth of those companies.\\n\\n**Key Concepts:**\\n\\n* **Stocks:** Represent ownership shares in a company.\\n* **Shares:** Units of ownership in a company.\\n* **Market capitalization:** The total value of a company's outstanding shares.\\n* **Index:** A measure of the performance of a group of stocks, such as the S&P 500 or Dow Jones Industrial Average.\\n* **Bull market:** A period of rising stock prices.\\n* **Bear market:** A period of falling stock prices.\\n\\n**Types of Stock Markets:**\\n\\n* **Primary market:** Where new stocks are issued and sold to the public for the first time.\\n* **Secondary market:** Where existing stocks are traded between investors.\\n\\n**Participants in the Stock Market:**\\n\\n* **Companies:** Issue stocks to raise capital.\\n* **Investors:** Buy and sell stocks to make a profit.\\n* **Brokers:** Facilitate the buying and selling of stocks.\\n* **Regulators:** Oversee the stock market to ensure fairness and transparency.\\n\\n**Factors Affecting Stock Prices:**\\n\\n* Company performance\\n* Economic conditions\\n* Interest rates\\n* Political events\\n* Investor sentiment\\n\\n**Investing in the Stock Market:**\\n\\n* **Diversification:** Spread your investments across different companies and industries to reduce risk.\\n* **Long-term investing:** Hold stocks for the long term to ride out market fluctuations.\\n* **Dollar-cost averaging:** Invest a fixed amount of money at regular intervals, regardless of stock prices.\\n* **Consider your risk tolerance:** Invest only what you can afford to lose.\\n\\n**Risks of Investing in the Stock Market:**\\n\\n* **Market volatility:** Stock prices can fluctuate significantly, leading to potential losses.\\n* **Company-specific risks:** Individual companies may face challenges that affect their stock prices.\\n* **Economic downturns:** Recessions and other economic events can negatively impact stock prices.\\n\\nIt is important to note that investing in the stock market involves both potential rewards and risks. Before investing, it is crucial to understand the risks and consult with a financial advisor if necessary.\", additional_kwargs={}, response_metadata={'prompt_feedback': {'block_reason': 0, 'safety_ratings': []}, 'finish_reason': 'STOP', 'safety_ratings': [{'category': 'HARM_CATEGORY_SEXUALLY_EXPLICIT', 'probability': 'NEGLIGIBLE', 'blocked': False}, {'category': 'HARM_CATEGORY_HATE_SPEECH', 'probability': 'NEGLIGIBLE', 'blocked': False}, {'category': 'HARM_CATEGORY_HARASSMENT', 'probability': 'NEGLIGIBLE', 'blocked': False}, {'category': 'HARM_CATEGORY_DANGEROUS_CONTENT', 'probability': 'NEGLIGIBLE', 'blocked': False}]}, id='run-3a6a81c2-2e27-4cb9-a1a6-def098de858d-0', usage_metadata={'input_tokens': 531, 'output_tokens': 472, 'total_tokens': 1003})]\n",
      "here is a last message content=\"The stock market is a public market where stocks, which represent ownership shares in companies, are bought and sold. It allows companies to raise capital from investors and provides investors with the opportunity to profit from the growth of those companies.\\n\\n**Key Concepts:**\\n\\n* **Stocks:** Represent ownership shares in a company.\\n* **Shares:** Units of ownership in a company.\\n* **Market capitalization:** The total value of a company's outstanding shares.\\n* **Index:** A measure of the performance of a group of stocks, such as the S&P 500 or Dow Jones Industrial Average.\\n* **Bull market:** A period of rising stock prices.\\n* **Bear market:** A period of falling stock prices.\\n\\n**Types of Stock Markets:**\\n\\n* **Primary market:** Where new stocks are issued and sold to the public for the first time.\\n* **Secondary market:** Where existing stocks are traded between investors.\\n\\n**Participants in the Stock Market:**\\n\\n* **Companies:** Issue stocks to raise capital.\\n* **Investors:** Buy and sell stocks to make a profit.\\n* **Brokers:** Facilitate the buying and selling of stocks.\\n* **Regulators:** Oversee the stock market to ensure fairness and transparency.\\n\\n**Factors Affecting Stock Prices:**\\n\\n* Company performance\\n* Economic conditions\\n* Interest rates\\n* Political events\\n* Investor sentiment\\n\\n**Investing in the Stock Market:**\\n\\n* **Diversification:** Spread your investments across different companies and industries to reduce risk.\\n* **Long-term investing:** Hold stocks for the long term to ride out market fluctuations.\\n* **Dollar-cost averaging:** Invest a fixed amount of money at regular intervals, regardless of stock prices.\\n* **Consider your risk tolerance:** Invest only what you can afford to lose.\\n\\n**Risks of Investing in the Stock Market:**\\n\\n* **Market volatility:** Stock prices can fluctuate significantly, leading to potential losses.\\n* **Company-specific risks:** Individual companies may face challenges that affect their stock prices.\\n* **Economic downturns:** Recessions and other economic events can negatively impact stock prices.\\n\\nIt is important to note that investing in the stock market involves both potential rewards and risks. Before investing, it is crucial to understand the risks and consult with a financial advisor if necessary.\" additional_kwargs={} response_metadata={'prompt_feedback': {'block_reason': 0, 'safety_ratings': []}, 'finish_reason': 'STOP', 'safety_ratings': [{'category': 'HARM_CATEGORY_SEXUALLY_EXPLICIT', 'probability': 'NEGLIGIBLE', 'blocked': False}, {'category': 'HARM_CATEGORY_HATE_SPEECH', 'probability': 'NEGLIGIBLE', 'blocked': False}, {'category': 'HARM_CATEGORY_HARASSMENT', 'probability': 'NEGLIGIBLE', 'blocked': False}, {'category': 'HARM_CATEGORY_DANGEROUS_CONTENT', 'probability': 'NEGLIGIBLE', 'blocked': False}]} id='run-3a6a81c2-2e27-4cb9-a1a6-def098de858d-0' usage_metadata={'input_tokens': 531, 'output_tokens': 472, 'total_tokens': 1003}\n"
     ]
    },
    {
     "data": {
      "text/plain": [
       "\"The stock market is a public market where stocks, which represent ownership shares in companies, are bought and sold. It allows companies to raise capital from investors and provides investors with the opportunity to profit from the growth of those companies.\\n\\n**Key Concepts:**\\n\\n* **Stocks:** Represent ownership shares in a company.\\n* **Shares:** Units of ownership in a company.\\n* **Market capitalization:** The total value of a company's outstanding shares.\\n* **Index:** A measure of the performance of a group of stocks, such as the S&P 500 or Dow Jones Industrial Average.\\n* **Bull market:** A period of rising stock prices.\\n* **Bear market:** A period of falling stock prices.\\n\\n**Types of Stock Markets:**\\n\\n* **Primary market:** Where new stocks are issued and sold to the public for the first time.\\n* **Secondary market:** Where existing stocks are traded between investors.\\n\\n**Participants in the Stock Market:**\\n\\n* **Companies:** Issue stocks to raise capital.\\n* **Investors:** Buy and sell stocks to make a profit.\\n* **Brokers:** Facilitate the buying and selling of stocks.\\n* **Regulators:** Oversee the stock market to ensure fairness and transparency.\\n\\n**Factors Affecting Stock Prices:**\\n\\n* Company performance\\n* Economic conditions\\n* Interest rates\\n* Political events\\n* Investor sentiment\\n\\n**Investing in the Stock Market:**\\n\\n* **Diversification:** Spread your investments across different companies and industries to reduce risk.\\n* **Long-term investing:** Hold stocks for the long term to ride out market fluctuations.\\n* **Dollar-cost averaging:** Invest a fixed amount of money at regular intervals, regardless of stock prices.\\n* **Consider your risk tolerance:** Invest only what you can afford to lose.\\n\\n**Risks of Investing in the Stock Market:**\\n\\n* **Market volatility:** Stock prices can fluctuate significantly, leading to potential losses.\\n* **Company-specific risks:** Individual companies may face challenges that affect their stock prices.\\n* **Economic downturns:** Recessions and other economic events can negatively impact stock prices.\\n\\nIt is important to note that investing in the stock market involves both potential rewards and risks. Before investing, it is crucial to understand the risks and consult with a financial advisor if necessary.\""
      ]
     },
     "execution_count": 29,
     "metadata": {},
     "output_type": "execute_result"
    }
   ],
   "source": [
    "final_state = app.invoke(\n",
    "    {\"messages\": [HumanMessage(content=\"what you know about the stock market?\")]},\n",
    "    config={\"configurable\": {\"thread_id\": 42}}\n",
    ")\n",
    "final_state[\"messages\"][-1].content"
   ]
  },
  {
   "cell_type": "markdown",
   "metadata": {},
   "source": [
    "The 2nd Chapter"
   ]
  },
  {
   "cell_type": "code",
   "execution_count": 31,
   "metadata": {},
   "outputs": [],
   "source": [
    "from typing import Annotated\n",
    "\n",
    "from typing_extensions import TypedDict\n",
    "\n",
    "from langgraph.graph import StateGraph, START, END\n",
    "from langgraph.graph.message import add_messages\n",
    "\n",
    "\n",
    "class State(TypedDict):\n",
    "    # Messages have the type \"list\". The `add_messages` function\n",
    "    # in the annotation defines how this state key should be updated\n",
    "    # (in this case, it appends messages to the list, rather than overwriting them)\n",
    "    messages: Annotated[list, add_messages]\n",
    "\n",
    "\n",
    "graph_builder = StateGraph(State)"
   ]
  },
  {
   "cell_type": "code",
   "execution_count": 32,
   "metadata": {},
   "outputs": [],
   "source": [
    "def chatbot(state: State):\n",
    "    return {\"messages\": [llm.invoke(state[\"messages\"])]}"
   ]
  },
  {
   "cell_type": "code",
   "execution_count": 33,
   "metadata": {},
   "outputs": [
    {
     "data": {
      "text/plain": [
       "<langgraph.graph.state.StateGraph at 0x26f8a3b78b0>"
      ]
     },
     "execution_count": 33,
     "metadata": {},
     "output_type": "execute_result"
    }
   ],
   "source": [
    "# The first argument is the unique node name\n",
    "# The second argument is the function or object that will be called whenever\n",
    "# the node is used.\n",
    "graph_builder.add_node(\"chatbot\", chatbot)"
   ]
  },
  {
   "cell_type": "code",
   "execution_count": 34,
   "metadata": {},
   "outputs": [
    {
     "data": {
      "text/plain": [
       "<langgraph.graph.state.StateGraph at 0x26f8a3b78b0>"
      ]
     },
     "execution_count": 34,
     "metadata": {},
     "output_type": "execute_result"
    }
   ],
   "source": [
    "graph_builder.add_edge(START, \"chatbot\")"
   ]
  },
  {
   "cell_type": "code",
   "execution_count": 35,
   "metadata": {},
   "outputs": [
    {
     "data": {
      "text/plain": [
       "<langgraph.graph.state.StateGraph at 0x26f8a3b78b0>"
      ]
     },
     "execution_count": 35,
     "metadata": {},
     "output_type": "execute_result"
    }
   ],
   "source": [
    "\n",
    "graph_builder.add_edge(\"chatbot\", END)"
   ]
  },
  {
   "cell_type": "code",
   "execution_count": 36,
   "metadata": {},
   "outputs": [],
   "source": [
    "graph = graph_builder.compile()"
   ]
  },
  {
   "cell_type": "code",
   "execution_count": 37,
   "metadata": {},
   "outputs": [
    {
     "data": {
      "image/jpeg": "[encoded data removed]",
      "text/plain": [
       "<IPython.core.display.Image object>"
      ]
     },
     "metadata": {},
     "output_type": "display_data"
    },
    {
     "ename": "",
     "evalue": "",
     "output_type": "error",
     "traceback": [
      "\u001b[1;31mThe Kernel crashed while executing code in the current cell or a previous cell. \n",
      "\u001b[1;31mPlease review the code in the cell(s) to identify a possible cause of the failure. \n",
      "\u001b[1;31mClick <a href='https://aka.ms/vscodeJupyterKernelCrash'>here</a> for more info. \n",
      "\u001b[1;31mView Jupyter <a href='command:jupyter.viewOutput'>log</a> for further details."
     ]
    }
   ],
   "source": [
    "from IPython.display import Image, display\n",
    "\n",
    "try:\n",
    "    display(Image(graph.get_graph().draw_mermaid_png()))\n",
    "except Exception:\n",
    "    # This requires some extra dependencies and is optional\n",
    "    pass"
   ]
  },
  {
   "cell_type": "code",
   "execution_count": null,
   "metadata": {},
   "outputs": [],
   "source": [
    "\n",
    "while True:\n",
    "    user_input = input(\"User: \")\n",
    "    print(\"User: \"+ user_input)\n",
    "    if user_input.lower() in [\"quit\", \"exit\", \"q\"]:\n",
    "        print(\"Goodbye!\")\n",
    "        break\n",
    "    for event in graph.stream({\"messages\": (\"user\", user_input)}):\n",
    "        for value in event.values():\n",
    "            print(\"Assistant:\", value[\"messages\"][-1].content)"
   ]
  },
  {
   "cell_type": "code",
   "execution_count": null,
   "metadata": {},
   "outputs": [],
   "source": [
    "from typing import Annotated\n",
    "\n",
    "from langchain_anthropic import ChatAnthropic\n",
    "from typing_extensions import TypedDict\n",
    "\n",
    "from langgraph.graph import StateGraph\n",
    "from langgraph.graph.message import add_messages\n",
    "\n",
    "\n",
    "class State(TypedDict):\n",
    "    messages: Annotated[list, add_messages]\n",
    "\n",
    "\n",
    "graph_builder = StateGraph(State)\n",
    "\n",
    "\n",
    "llm = ChatAnthropic(model=\"claude-3-haiku-20240307\")\n",
    "\n",
    "\n",
    "def chatbot(state: State):\n",
    "    return {\"messages\": [llm.invoke(state[\"messages\"])]}\n",
    "\n",
    "\n",
    "# The first argument is the unique node name\n",
    "# The second argument is the function or object that will be called whenever\n",
    "# the node is used.\n",
    "graph_builder.add_node(\"chatbot\", chatbot)\n",
    "graph_builder.set_entry_point(\"chatbot\")\n",
    "graph_builder.set_finish_point(\"chatbot\")\n",
    "graph = graph_builder.compile()\n"
   ]
  },
  {
   "cell_type": "markdown",
   "metadata": {},
   "source": [
    "### Enhancing Chatbot with s"
   ]
  },
  {
   "cell_type": "markdown",
   "metadata": {},
   "source": [
    "part-1"
   ]
  },
  {
   "cell_type": "code",
   "execution_count": 1,
   "metadata": {},
   "outputs": [],
   "source": [
    "from typing import Annotated\n",
    "\n",
    "from typing_extensions import TypedDict\n",
    "\n",
    "from langgraph.graph import StateGraph, START, END\n",
    "from langgraph.graph.message import add_messages\n",
    "\n",
    "\n",
    "class State(TypedDict):\n",
    "    # Messages have the type \"list\". The `add_messages` function\n",
    "    # in the annotation defines how this state key should be updated\n",
    "    # (in this case, it appends messages to the list, rather than overwriting them)\n",
    "    messages: Annotated[list, add_messages]\n",
    "\n",
    "\n",
    "graph_builder = StateGraph(State)"
   ]
  },
  {
   "cell_type": "code",
   "execution_count": 2,
   "metadata": {},
   "outputs": [
    {
     "data": {
      "text/plain": [
       "<langgraph.graph.state.StateGraph at 0x20d20057160>"
      ]
     },
     "execution_count": 2,
     "metadata": {},
     "output_type": "execute_result"
    }
   ],
   "source": [
    "def chatbot(state: State):\n",
    "    return {\"messages\": [llm.invoke(state[\"messages\"])]}\n",
    "\n",
    "\n",
    "# The first argument is the unique node name\n",
    "# The second argument is the function or object that will be called whenever\n",
    "# the node is used.\n",
    "graph_builder.add_node(\"chatbot\", chatbot)"
   ]
  },
  {
   "cell_type": "code",
   "execution_count": 3,
   "metadata": {},
   "outputs": [
    {
     "data": {
      "text/plain": [
       "<langgraph.graph.state.StateGraph at 0x20d20057160>"
      ]
     },
     "execution_count": 3,
     "metadata": {},
     "output_type": "execute_result"
    }
   ],
   "source": [
    "graph_builder.add_edge(START, \"chatbot\")"
   ]
  },
  {
   "cell_type": "code",
   "execution_count": 4,
   "metadata": {},
   "outputs": [
    {
     "data": {
      "text/plain": [
       "<langgraph.graph.state.StateGraph at 0x20d20057160>"
      ]
     },
     "execution_count": 4,
     "metadata": {},
     "output_type": "execute_result"
    }
   ],
   "source": [
    "\n",
    "graph_builder.add_edge(\"chatbot\", END)"
   ]
  },
  {
   "cell_type": "code",
   "execution_count": 5,
   "metadata": {},
   "outputs": [],
   "source": [
    "graph = graph_builder.compile()"
   ]
  },
  {
   "cell_type": "code",
   "execution_count": 6,
   "metadata": {},
   "outputs": [
    {
     "data": {
      "image/jpeg": "[encoded data removed]",
      "text/plain": [
       "<IPython.core.display.Image object>"
      ]
     },
     "metadata": {},
     "output_type": "display_data"
    }
   ],
   "source": [
    "from IPython.display import Image, display\n",
    "\n",
    "try:\n",
    "    display(Image(graph.get_graph().draw_mermaid_png()))\n",
    "except Exception:\n",
    "    # This requires some extra dependencies and is optional\n",
    "    pass"
   ]
  },
  {
   "cell_type": "code",
   "execution_count": 7,
   "metadata": {},
   "outputs": [
    {
     "name": "stdout",
     "output_type": "stream",
     "text": [
      "User: quit\n",
      "Goodbye!\n"
     ]
    }
   ],
   "source": [
    "while True:\n",
    "    user_input = input(\"User: \")\n",
    "    print(\"User: \"+ user_input)\n",
    "    if user_input.lower() in [\"quit\", \"exit\", \"q\"]:\n",
    "        print(\"Goodbye!\")\n",
    "        break\n",
    "    for event in graph.stream({\"messages\": (\"user\", user_input)}):\n",
    "        for value in event.values():\n",
    "            print(\"Assistant:\", value[\"messages\"][-1].content)"
   ]
  },
  {
   "cell_type": "code",
   "execution_count": 8,
   "metadata": {},
   "outputs": [],
   "source": [
    "%%capture --no-stderr\n",
    "%pip install -U tavily-python\n",
    "%pip install -U langchain_community"
   ]
  },
  {
   "cell_type": "code",
   "execution_count": 10,
   "metadata": {},
   "outputs": [
    {
     "data": {
      "text/plain": [
       "[{'url': 'https://www.datacamp.com/tutorial/langgraph-tutorial',\n",
       "  'content': \"In LangGraph, each node represents an LLM agent, and the edges are the communication channels between these agents. This structure allows for clear and manageable workflows, where each agent performs specific tasks and passes information to other agents as needed. State management. One of LangGraph's standout features is its automatic state ...\"},\n",
       " {'url': 'https://medium.com/@kbdhunga/beginners-guide-to-langgraph-understanding-state-nodes-and-edges-part-1-897e6114fa48',\n",
       "  'content': 'Each node in a LangGraph graph has the ability to access, read, and write to the state. When a node modifies the state, it effectively broadcasts this information to all other nodes within the graph .'}]"
      ]
     },
     "execution_count": 10,
     "metadata": {},
     "output_type": "execute_result"
    }
   ],
   "source": [
    "from langchain_community.tools.tavily_search import TavilySearchResults\n",
    "\n",
    "tool = TavilySearchResults(max_results=2)\n",
    "tools = [tool]\n",
    "tool.invoke(\"What's a 'node' in LangGraph?\")"
   ]
  },
  {
   "cell_type": "code",
   "execution_count": 18,
   "metadata": {},
   "outputs": [
    {
     "name": "stderr",
     "output_type": "stream",
     "text": [
      "Key 'title' is not supported in schema, ignoring\n",
      "Key 'title' is not supported in schema, ignoring\n"
     ]
    },
    {
     "data": {
      "text/plain": [
       "<langgraph.graph.state.StateGraph at 0x20d4321f6a0>"
      ]
     },
     "execution_count": 18,
     "metadata": {},
     "output_type": "execute_result"
    }
   ],
   "source": [
    "from typing import Annotated\n",
    "from typing_extensions import TypedDict\n",
    "\n",
    "from langgraph.graph import StateGraph, START\n",
    "from langgraph.graph.message import add_messages\n",
    "\n",
    "\n",
    "class State(TypedDict):\n",
    "    messages: Annotated[list, add_messages]\n",
    "\n",
    "\n",
    "graph_builder = StateGraph(State)\n",
    "\n",
    "# Modification: tell the LLM which tools it can call\n",
    "llm_with_tools = llm.bind_tools(tools)\n",
    "\n",
    "\n",
    "def chatbot(state: State):\n",
    "    return {\"messages\": [llm_with_tools.invoke(state[\"messages\"])]}\n",
    "\n",
    "\n",
    "graph_builder.add_node(\"chatbot\", chatbot)"
   ]
  },
  {
   "cell_type": "code",
   "execution_count": 19,
   "metadata": {},
   "outputs": [
    {
     "ename": "AttributeError",
     "evalue": "'function' object has no attribute 'name'",
     "output_type": "error",
     "traceback": [
      "\u001b[1;31m---------------------------------------------------------------------------\u001b[0m",
      "\u001b[1;31mAttributeError\u001b[0m                            Traceback (most recent call last)",
      "Cell \u001b[1;32mIn[19], line 32\u001b[0m\n\u001b[0;32m     22\u001b[0m             outputs\u001b[38;5;241m.\u001b[39mappend(\n\u001b[0;32m     23\u001b[0m                 ToolMessage(\n\u001b[0;32m     24\u001b[0m                     content\u001b[38;5;241m=\u001b[39mjson\u001b[38;5;241m.\u001b[39mdumps(tool_result),\n\u001b[1;32m   (...)\u001b[0m\n\u001b[0;32m     27\u001b[0m                 )\n\u001b[0;32m     28\u001b[0m             )\n\u001b[0;32m     29\u001b[0m         \u001b[38;5;28;01mreturn\u001b[39;00m {\u001b[38;5;124m\"\u001b[39m\u001b[38;5;124mmessages\u001b[39m\u001b[38;5;124m\"\u001b[39m: outputs}\n\u001b[1;32m---> 32\u001b[0m tool_node \u001b[38;5;241m=\u001b[39m \u001b[43mBasicToolNode\u001b[49m\u001b[43m(\u001b[49m\u001b[43mtools\u001b[49m\u001b[38;5;241;43m=\u001b[39;49m\u001b[43m[\u001b[49m\u001b[43mtool\u001b[49m\u001b[43m]\u001b[49m\u001b[43m)\u001b[49m\n\u001b[0;32m     33\u001b[0m graph_builder\u001b[38;5;241m.\u001b[39madd_node(\u001b[38;5;124m\"\u001b[39m\u001b[38;5;124mtools\u001b[39m\u001b[38;5;124m\"\u001b[39m, tool_node)\n",
      "Cell \u001b[1;32mIn[19], line 10\u001b[0m, in \u001b[0;36mBasicToolNode.__init__\u001b[1;34m(self, tools)\u001b[0m\n\u001b[0;32m      9\u001b[0m \u001b[38;5;28;01mdef\u001b[39;00m \u001b[38;5;21m__init__\u001b[39m(\u001b[38;5;28mself\u001b[39m, tools: \u001b[38;5;28mlist\u001b[39m) \u001b[38;5;241m-\u001b[39m\u001b[38;5;241m>\u001b[39m \u001b[38;5;28;01mNone\u001b[39;00m:\n\u001b[1;32m---> 10\u001b[0m     \u001b[38;5;28mself\u001b[39m\u001b[38;5;241m.\u001b[39mtools_by_name \u001b[38;5;241m=\u001b[39m {tool\u001b[38;5;241m.\u001b[39mname: tool \u001b[38;5;28;01mfor\u001b[39;00m tool \u001b[38;5;129;01min\u001b[39;00m tools}\n",
      "Cell \u001b[1;32mIn[19], line 10\u001b[0m, in \u001b[0;36m<dictcomp>\u001b[1;34m(.0)\u001b[0m\n\u001b[0;32m      9\u001b[0m \u001b[38;5;28;01mdef\u001b[39;00m \u001b[38;5;21m__init__\u001b[39m(\u001b[38;5;28mself\u001b[39m, tools: \u001b[38;5;28mlist\u001b[39m) \u001b[38;5;241m-\u001b[39m\u001b[38;5;241m>\u001b[39m \u001b[38;5;28;01mNone\u001b[39;00m:\n\u001b[1;32m---> 10\u001b[0m     \u001b[38;5;28mself\u001b[39m\u001b[38;5;241m.\u001b[39mtools_by_name \u001b[38;5;241m=\u001b[39m {\u001b[43mtool\u001b[49m\u001b[38;5;241;43m.\u001b[39;49m\u001b[43mname\u001b[49m: tool \u001b[38;5;28;01mfor\u001b[39;00m tool \u001b[38;5;129;01min\u001b[39;00m tools}\n",
      "\u001b[1;31mAttributeError\u001b[0m: 'function' object has no attribute 'name'"
     ]
    }
   ],
   "source": [
    "import json\n",
    "\n",
    "from langchain_core.messages import ToolMessage\n",
    "\n",
    "\n",
    "class BasicToolNode:\n",
    "    \"\"\"A node that runs the tools requested in the last AIMessage.\"\"\"\n",
    "\n",
    "    def __init__(self, tools: list) -> None:\n",
    "        self.tools_by_name = {tool.name: tool for tool in tools}\n",
    "\n",
    "    def __call__(self, inputs: dict):\n",
    "        if messages := inputs.get(\"messages\", []):\n",
    "            message = messages[-1]\n",
    "        else:\n",
    "            raise ValueError(\"No message found in input\")\n",
    "        outputs = []\n",
    "        for tool_call in message.tool_calls:\n",
    "            tool_result = self.tools_by_name[tool_call[\"name\"]].invoke(\n",
    "                tool_call[\"args\"]\n",
    "            )\n",
    "            outputs.append(\n",
    "                ToolMessage(\n",
    "                    content=json.dumps(tool_result),\n",
    "                    name=tool_call[\"name\"],\n",
    "                    tool_call_id=tool_call[\"id\"],\n",
    "                )\n",
    "            )\n",
    "        return {\"messages\": outputs}\n",
    "\n",
    "\n",
    "tool_node = BasicToolNode(tools=[tool])\n",
    "graph_builder.add_node(\"tools\", tool_node)"
   ]
  },
  {
   "cell_type": "code",
   "execution_count": 20,
   "metadata": {},
   "outputs": [
    {
     "ename": "ValueError",
     "evalue": "Found edge starting at unknown node 'tools'",
     "output_type": "error",
     "traceback": [
      "\u001b[1;31m---------------------------------------------------------------------------\u001b[0m",
      "\u001b[1;31mValueError\u001b[0m                                Traceback (most recent call last)",
      "Cell \u001b[1;32mIn[20], line 37\u001b[0m\n\u001b[0;32m     35\u001b[0m graph_builder\u001b[38;5;241m.\u001b[39madd_edge(\u001b[38;5;124m\"\u001b[39m\u001b[38;5;124mtools\u001b[39m\u001b[38;5;124m\"\u001b[39m, \u001b[38;5;124m\"\u001b[39m\u001b[38;5;124mchatbot\u001b[39m\u001b[38;5;124m\"\u001b[39m)\n\u001b[0;32m     36\u001b[0m graph_builder\u001b[38;5;241m.\u001b[39madd_edge(START, \u001b[38;5;124m\"\u001b[39m\u001b[38;5;124mchatbot\u001b[39m\u001b[38;5;124m\"\u001b[39m)\n\u001b[1;32m---> 37\u001b[0m graph \u001b[38;5;241m=\u001b[39m \u001b[43mgraph_builder\u001b[49m\u001b[38;5;241;43m.\u001b[39;49m\u001b[43mcompile\u001b[49m\u001b[43m(\u001b[49m\u001b[43m)\u001b[49m\n",
      "File \u001b[1;32mc:\\Users\\sunny\\Langgraph_Practice\\venv\\lib\\site-packages\\langgraph\\graph\\state.py:431\u001b[0m, in \u001b[0;36mStateGraph.compile\u001b[1;34m(self, checkpointer, store, interrupt_before, interrupt_after, debug)\u001b[0m\n\u001b[0;32m    428\u001b[0m interrupt_after \u001b[38;5;241m=\u001b[39m interrupt_after \u001b[38;5;129;01mor\u001b[39;00m []\n\u001b[0;32m    430\u001b[0m \u001b[38;5;66;03m# validate the graph\u001b[39;00m\n\u001b[1;32m--> 431\u001b[0m \u001b[38;5;28;43mself\u001b[39;49m\u001b[38;5;241;43m.\u001b[39;49m\u001b[43mvalidate\u001b[49m\u001b[43m(\u001b[49m\n\u001b[0;32m    432\u001b[0m \u001b[43m    \u001b[49m\u001b[43minterrupt\u001b[49m\u001b[38;5;241;43m=\u001b[39;49m\u001b[43m(\u001b[49m\n\u001b[0;32m    433\u001b[0m \u001b[43m        \u001b[49m\u001b[43m(\u001b[49m\u001b[43minterrupt_before\u001b[49m\u001b[43m \u001b[49m\u001b[38;5;28;43;01mif\u001b[39;49;00m\u001b[43m \u001b[49m\u001b[43minterrupt_before\u001b[49m\u001b[43m \u001b[49m\u001b[38;5;241;43m!=\u001b[39;49m\u001b[43m \u001b[49m\u001b[38;5;124;43m\"\u001b[39;49m\u001b[38;5;124;43m*\u001b[39;49m\u001b[38;5;124;43m\"\u001b[39;49m\u001b[43m \u001b[49m\u001b[38;5;28;43;01melse\u001b[39;49;00m\u001b[43m \u001b[49m\u001b[43m[\u001b[49m\u001b[43m]\u001b[49m\u001b[43m)\u001b[49m\u001b[43m \u001b[49m\u001b[38;5;241;43m+\u001b[39;49m\u001b[43m \u001b[49m\u001b[43minterrupt_after\u001b[49m\n\u001b[0;32m    434\u001b[0m \u001b[43m        \u001b[49m\u001b[38;5;28;43;01mif\u001b[39;49;00m\u001b[43m \u001b[49m\u001b[43minterrupt_after\u001b[49m\u001b[43m \u001b[49m\u001b[38;5;241;43m!=\u001b[39;49m\u001b[43m \u001b[49m\u001b[38;5;124;43m\"\u001b[39;49m\u001b[38;5;124;43m*\u001b[39;49m\u001b[38;5;124;43m\"\u001b[39;49m\n\u001b[0;32m    435\u001b[0m \u001b[43m        \u001b[49m\u001b[38;5;28;43;01melse\u001b[39;49;00m\u001b[43m \u001b[49m\u001b[43m[\u001b[49m\u001b[43m]\u001b[49m\n\u001b[0;32m    436\u001b[0m \u001b[43m    \u001b[49m\u001b[43m)\u001b[49m\n\u001b[0;32m    437\u001b[0m \u001b[43m\u001b[49m\u001b[43m)\u001b[49m\n\u001b[0;32m    439\u001b[0m \u001b[38;5;66;03m# prepare output channels\u001b[39;00m\n\u001b[0;32m    440\u001b[0m output_channels \u001b[38;5;241m=\u001b[39m (\n\u001b[0;32m    441\u001b[0m     \u001b[38;5;124m\"\u001b[39m\u001b[38;5;124m__root__\u001b[39m\u001b[38;5;124m\"\u001b[39m\n\u001b[0;32m    442\u001b[0m     \u001b[38;5;28;01mif\u001b[39;00m \u001b[38;5;28mlen\u001b[39m(\u001b[38;5;28mself\u001b[39m\u001b[38;5;241m.\u001b[39mschemas[\u001b[38;5;28mself\u001b[39m\u001b[38;5;241m.\u001b[39moutput]) \u001b[38;5;241m==\u001b[39m \u001b[38;5;241m1\u001b[39m\n\u001b[1;32m   (...)\u001b[0m\n\u001b[0;32m    448\u001b[0m     ]\n\u001b[0;32m    449\u001b[0m )\n",
      "File \u001b[1;32mc:\\Users\\sunny\\Langgraph_Practice\\venv\\lib\\site-packages\\langgraph\\graph\\graph.py:371\u001b[0m, in \u001b[0;36mGraph.validate\u001b[1;34m(self, interrupt)\u001b[0m\n\u001b[0;32m    369\u001b[0m \u001b[38;5;28;01mfor\u001b[39;00m source \u001b[38;5;129;01min\u001b[39;00m all_sources:\n\u001b[0;32m    370\u001b[0m     \u001b[38;5;28;01mif\u001b[39;00m source \u001b[38;5;129;01mnot\u001b[39;00m \u001b[38;5;129;01min\u001b[39;00m \u001b[38;5;28mself\u001b[39m\u001b[38;5;241m.\u001b[39mnodes \u001b[38;5;129;01mand\u001b[39;00m source \u001b[38;5;241m!=\u001b[39m START:\n\u001b[1;32m--> 371\u001b[0m         \u001b[38;5;28;01mraise\u001b[39;00m \u001b[38;5;167;01mValueError\u001b[39;00m(\u001b[38;5;124mf\u001b[39m\u001b[38;5;124m\"\u001b[39m\u001b[38;5;124mFound edge starting at unknown node \u001b[39m\u001b[38;5;124m'\u001b[39m\u001b[38;5;132;01m{\u001b[39;00msource\u001b[38;5;132;01m}\u001b[39;00m\u001b[38;5;124m'\u001b[39m\u001b[38;5;124m\"\u001b[39m)\n\u001b[0;32m    373\u001b[0m \u001b[38;5;66;03m# assemble targets\u001b[39;00m\n\u001b[0;32m    374\u001b[0m all_targets \u001b[38;5;241m=\u001b[39m {end \u001b[38;5;28;01mfor\u001b[39;00m _, end \u001b[38;5;129;01min\u001b[39;00m \u001b[38;5;28mself\u001b[39m\u001b[38;5;241m.\u001b[39m_all_edges}\n",
      "\u001b[1;31mValueError\u001b[0m: Found edge starting at unknown node 'tools'"
     ]
    }
   ],
   "source": [
    "from typing import Literal\n",
    "\n",
    "\n",
    "def route_tools(\n",
    "    state: State,\n",
    ") -> Literal[\"tools\", \"__end__\"]:\n",
    "    \"\"\"\n",
    "    Use in the conditional_edge to route to the ToolNode if the last message\n",
    "    has tool calls. Otherwise, route to the end.\n",
    "    \"\"\"\n",
    "    if isinstance(state, list):\n",
    "        ai_message = state[-1]\n",
    "    elif messages := state.get(\"messages\", []):\n",
    "        ai_message = messages[-1]\n",
    "    else:\n",
    "        raise ValueError(f\"No messages found in input state to tool_edge: {state}\")\n",
    "    if hasattr(ai_message, \"tool_calls\") and len(ai_message.tool_calls) > 0:\n",
    "        return \"tools\"\n",
    "    return \"__end__\"\n",
    "\n",
    "\n",
    "# The `tools_condition` function returns \"tools\" if the chatbot asks to use a tool, and \"__end__\" if\n",
    "# it is fine directly responding. This conditional routing defines the main agent loop.\n",
    "graph_builder.add_conditional_edges(\n",
    "    \"chatbot\",\n",
    "    route_tools,\n",
    "    # The following dictionary lets you tell the graph to interpret the condition's outputs as a specific node\n",
    "    # It defaults to the identity function, but if you\n",
    "    # want to use a node named something else apart from \"tools\",\n",
    "    # You can update the value of the dictionary to something else\n",
    "    # e.g., \"tools\": \"my_tools\"\n",
    "    {\"tools\": \"tools\", \"__end__\": \"__end__\"},\n",
    ")\n",
    "# Any time a tool is called, we return to the chatbot to decide the next step\n",
    "graph_builder.add_edge(\"tools\", \"chatbot\")\n",
    "graph_builder.add_edge(START, \"chatbot\")\n",
    "graph = graph_builder.compile()"
   ]
  },
  {
   "cell_type": "code",
   "execution_count": 21,
   "metadata": {},
   "outputs": [
    {
     "data": {
      "image/jpeg": "[encoded data removed]",
      "text/plain": [
       "<IPython.core.display.Image object>"
      ]
     },
     "metadata": {},
     "output_type": "display_data"
    }
   ],
   "source": [
    "from IPython.display import Image, display\n",
    "\n",
    "try:\n",
    "    display(Image(graph.get_graph().draw_mermaid_png()))\n",
    "except Exception:\n",
    "    # This requires some extra dependencies and is optional\n",
    "    pass"
   ]
  },
  {
   "cell_type": "code",
   "execution_count": 22,
   "metadata": {},
   "outputs": [
    {
     "name": "stdout",
     "output_type": "stream",
     "text": [
      "Goodbye!\n"
     ]
    }
   ],
   "source": [
    "\n",
    "from langchain_core.messages import BaseMessage\n",
    "\n",
    "while True:\n",
    "    user_input = input(\"User: \")\n",
    "    if user_input.lower() in [\"quit\", \"exit\", \"q\"]:\n",
    "        print(\"Goodbye!\")\n",
    "        break\n",
    "    for event in graph.stream({\"messages\": [(\"user\", user_input)]}):\n",
    "        for value in event.values():\n",
    "            if isinstance(value[\"messages\"][-1], BaseMessage):\n",
    "                print(\"Assistant:\", value[\"messages\"][-1].content)"
   ]
  },
  {
   "cell_type": "code",
   "execution_count": 23,
   "metadata": {},
   "outputs": [],
   "source": [
    "\n",
    "from langgraph.checkpoint.memory import MemorySaver\n",
    "\n",
    "memory = MemorySaver()"
   ]
  },
  {
   "cell_type": "code",
   "execution_count": 24,
   "metadata": {},
   "outputs": [
    {
     "ename": "ModuleNotFoundError",
     "evalue": "No module named 'langchain_anthropic'",
     "output_type": "error",
     "traceback": [
      "\u001b[1;31m---------------------------------------------------------------------------\u001b[0m",
      "\u001b[1;31mModuleNotFoundError\u001b[0m                       Traceback (most recent call last)",
      "Cell \u001b[1;32mIn[24], line 3\u001b[0m\n\u001b[0;32m      1\u001b[0m \u001b[38;5;28;01mfrom\u001b[39;00m \u001b[38;5;21;01mtyping\u001b[39;00m \u001b[38;5;28;01mimport\u001b[39;00m Annotated\n\u001b[1;32m----> 3\u001b[0m \u001b[38;5;28;01mfrom\u001b[39;00m \u001b[38;5;21;01mlangchain_anthropic\u001b[39;00m \u001b[38;5;28;01mimport\u001b[39;00m ChatAnthropic\n\u001b[0;32m      4\u001b[0m \u001b[38;5;28;01mfrom\u001b[39;00m \u001b[38;5;21;01mlangchain_community\u001b[39;00m\u001b[38;5;21;01m.\u001b[39;00m\u001b[38;5;21;01mtools\u001b[39;00m\u001b[38;5;21;01m.\u001b[39;00m\u001b[38;5;21;01mtavily_search\u001b[39;00m \u001b[38;5;28;01mimport\u001b[39;00m TavilySearchResults\n\u001b[0;32m      5\u001b[0m \u001b[38;5;28;01mfrom\u001b[39;00m \u001b[38;5;21;01mlangchain_core\u001b[39;00m\u001b[38;5;21;01m.\u001b[39;00m\u001b[38;5;21;01mmessages\u001b[39;00m \u001b[38;5;28;01mimport\u001b[39;00m BaseMessage\n",
      "\u001b[1;31mModuleNotFoundError\u001b[0m: No module named 'langchain_anthropic'"
     ]
    }
   ],
   "source": [
    "from typing import Annotated\n",
    "\n",
    "from langchain_anthropic import ChatAnthropic\n",
    "from langchain_community.tools.tavily_search import TavilySearchResults\n",
    "from langchain_core.messages import BaseMessage\n",
    "from typing_extensions import TypedDict\n",
    "\n",
    "from langgraph.graph import StateGraph, START, END\n",
    "from langgraph.graph.message import add_messages\n",
    "from langgraph.prebuilt import ToolNode, tools_condition\n",
    "\n",
    "\n",
    "class State(TypedDict):\n",
    "    messages: Annotated[list, add_messages]\n",
    "\n",
    "\n",
    "graph_builder = StateGraph(State)\n",
    "\n",
    "\n",
    "tool = TavilySearchResults(max_results=2)\n",
    "tools = [tool]\n",
    "llm = ChatAnthropic(model=\"claude-3-haiku-20240307\")\n",
    "llm_with_tools = llm.bind_tools(tools)\n",
    "\n",
    "\n",
    "def chatbot(state: State):\n",
    "    return {\"messages\": [llm_with_tools.invoke(state[\"messages\"])]}\n",
    "\n",
    "\n",
    "graph_builder.add_node(\"chatbot\", chatbot)\n",
    "\n",
    "tool_node = ToolNode(tools=[tool])\n",
    "graph_builder.add_node(\"tools\", tool_node)\n",
    "\n",
    "graph_builder.add_conditional_edges(\n",
    "    \"chatbot\",\n",
    "    tools_condition,\n",
    ")\n",
    "# Any time a tool is called, we return to the chatbot to decide the next step\n",
    "graph_builder.add_edge(\"tools\", \"chatbot\")\n",
    "graph_builder.add_edge(START, \"chatbot\")"
   ]
  },
  {
   "cell_type": "code",
   "execution_count": 25,
   "metadata": {},
   "outputs": [
    {
     "ename": "ValueError",
     "evalue": "Found edge starting at unknown node 'tools'",
     "output_type": "error",
     "traceback": [
      "\u001b[1;31m---------------------------------------------------------------------------\u001b[0m",
      "\u001b[1;31mValueError\u001b[0m                                Traceback (most recent call last)",
      "Cell \u001b[1;32mIn[25], line 1\u001b[0m\n\u001b[1;32m----> 1\u001b[0m graph \u001b[38;5;241m=\u001b[39m \u001b[43mgraph_builder\u001b[49m\u001b[38;5;241;43m.\u001b[39;49m\u001b[43mcompile\u001b[49m\u001b[43m(\u001b[49m\u001b[43mcheckpointer\u001b[49m\u001b[38;5;241;43m=\u001b[39;49m\u001b[43mmemory\u001b[49m\u001b[43m)\u001b[49m\n",
      "File \u001b[1;32mc:\\Users\\sunny\\Langgraph_Practice\\venv\\lib\\site-packages\\langgraph\\graph\\state.py:431\u001b[0m, in \u001b[0;36mStateGraph.compile\u001b[1;34m(self, checkpointer, store, interrupt_before, interrupt_after, debug)\u001b[0m\n\u001b[0;32m    428\u001b[0m interrupt_after \u001b[38;5;241m=\u001b[39m interrupt_after \u001b[38;5;129;01mor\u001b[39;00m []\n\u001b[0;32m    430\u001b[0m \u001b[38;5;66;03m# validate the graph\u001b[39;00m\n\u001b[1;32m--> 431\u001b[0m \u001b[38;5;28;43mself\u001b[39;49m\u001b[38;5;241;43m.\u001b[39;49m\u001b[43mvalidate\u001b[49m\u001b[43m(\u001b[49m\n\u001b[0;32m    432\u001b[0m \u001b[43m    \u001b[49m\u001b[43minterrupt\u001b[49m\u001b[38;5;241;43m=\u001b[39;49m\u001b[43m(\u001b[49m\n\u001b[0;32m    433\u001b[0m \u001b[43m        \u001b[49m\u001b[43m(\u001b[49m\u001b[43minterrupt_before\u001b[49m\u001b[43m \u001b[49m\u001b[38;5;28;43;01mif\u001b[39;49;00m\u001b[43m \u001b[49m\u001b[43minterrupt_before\u001b[49m\u001b[43m \u001b[49m\u001b[38;5;241;43m!=\u001b[39;49m\u001b[43m \u001b[49m\u001b[38;5;124;43m\"\u001b[39;49m\u001b[38;5;124;43m*\u001b[39;49m\u001b[38;5;124;43m\"\u001b[39;49m\u001b[43m \u001b[49m\u001b[38;5;28;43;01melse\u001b[39;49;00m\u001b[43m \u001b[49m\u001b[43m[\u001b[49m\u001b[43m]\u001b[49m\u001b[43m)\u001b[49m\u001b[43m \u001b[49m\u001b[38;5;241;43m+\u001b[39;49m\u001b[43m \u001b[49m\u001b[43minterrupt_after\u001b[49m\n\u001b[0;32m    434\u001b[0m \u001b[43m        \u001b[49m\u001b[38;5;28;43;01mif\u001b[39;49;00m\u001b[43m \u001b[49m\u001b[43minterrupt_after\u001b[49m\u001b[43m \u001b[49m\u001b[38;5;241;43m!=\u001b[39;49m\u001b[43m \u001b[49m\u001b[38;5;124;43m\"\u001b[39;49m\u001b[38;5;124;43m*\u001b[39;49m\u001b[38;5;124;43m\"\u001b[39;49m\n\u001b[0;32m    435\u001b[0m \u001b[43m        \u001b[49m\u001b[38;5;28;43;01melse\u001b[39;49;00m\u001b[43m \u001b[49m\u001b[43m[\u001b[49m\u001b[43m]\u001b[49m\n\u001b[0;32m    436\u001b[0m \u001b[43m    \u001b[49m\u001b[43m)\u001b[49m\n\u001b[0;32m    437\u001b[0m \u001b[43m\u001b[49m\u001b[43m)\u001b[49m\n\u001b[0;32m    439\u001b[0m \u001b[38;5;66;03m# prepare output channels\u001b[39;00m\n\u001b[0;32m    440\u001b[0m output_channels \u001b[38;5;241m=\u001b[39m (\n\u001b[0;32m    441\u001b[0m     \u001b[38;5;124m\"\u001b[39m\u001b[38;5;124m__root__\u001b[39m\u001b[38;5;124m\"\u001b[39m\n\u001b[0;32m    442\u001b[0m     \u001b[38;5;28;01mif\u001b[39;00m \u001b[38;5;28mlen\u001b[39m(\u001b[38;5;28mself\u001b[39m\u001b[38;5;241m.\u001b[39mschemas[\u001b[38;5;28mself\u001b[39m\u001b[38;5;241m.\u001b[39moutput]) \u001b[38;5;241m==\u001b[39m \u001b[38;5;241m1\u001b[39m\n\u001b[1;32m   (...)\u001b[0m\n\u001b[0;32m    448\u001b[0m     ]\n\u001b[0;32m    449\u001b[0m )\n",
      "File \u001b[1;32mc:\\Users\\sunny\\Langgraph_Practice\\venv\\lib\\site-packages\\langgraph\\graph\\graph.py:371\u001b[0m, in \u001b[0;36mGraph.validate\u001b[1;34m(self, interrupt)\u001b[0m\n\u001b[0;32m    369\u001b[0m \u001b[38;5;28;01mfor\u001b[39;00m source \u001b[38;5;129;01min\u001b[39;00m all_sources:\n\u001b[0;32m    370\u001b[0m     \u001b[38;5;28;01mif\u001b[39;00m source \u001b[38;5;129;01mnot\u001b[39;00m \u001b[38;5;129;01min\u001b[39;00m \u001b[38;5;28mself\u001b[39m\u001b[38;5;241m.\u001b[39mnodes \u001b[38;5;129;01mand\u001b[39;00m source \u001b[38;5;241m!=\u001b[39m START:\n\u001b[1;32m--> 371\u001b[0m         \u001b[38;5;28;01mraise\u001b[39;00m \u001b[38;5;167;01mValueError\u001b[39;00m(\u001b[38;5;124mf\u001b[39m\u001b[38;5;124m\"\u001b[39m\u001b[38;5;124mFound edge starting at unknown node \u001b[39m\u001b[38;5;124m'\u001b[39m\u001b[38;5;132;01m{\u001b[39;00msource\u001b[38;5;132;01m}\u001b[39;00m\u001b[38;5;124m'\u001b[39m\u001b[38;5;124m\"\u001b[39m)\n\u001b[0;32m    373\u001b[0m \u001b[38;5;66;03m# assemble targets\u001b[39;00m\n\u001b[0;32m    374\u001b[0m all_targets \u001b[38;5;241m=\u001b[39m {end \u001b[38;5;28;01mfor\u001b[39;00m _, end \u001b[38;5;129;01min\u001b[39;00m \u001b[38;5;28mself\u001b[39m\u001b[38;5;241m.\u001b[39m_all_edges}\n",
      "\u001b[1;31mValueError\u001b[0m: Found edge starting at unknown node 'tools'"
     ]
    }
   ],
   "source": [
    "graph = graph_builder.compile(checkpointer=memory)"
   ]
  },
  {
   "cell_type": "code",
   "execution_count": 26,
   "metadata": {},
   "outputs": [
    {
     "data": {
      "image/jpeg": "[encoded data removed]",
      "text/plain": [
       "<IPython.core.display.Image object>"
      ]
     },
     "metadata": {},
     "output_type": "display_data"
    }
   ],
   "source": [
    "from IPython.display import Image, display\n",
    "\n",
    "try:\n",
    "    display(Image(graph.get_graph().draw_mermaid_png()))\n",
    "except Exception:\n",
    "    # This requires some extra dependencies and is optional\n",
    "    pass"
   ]
  },
  {
   "cell_type": "code",
   "execution_count": 27,
   "metadata": {},
   "outputs": [],
   "source": [
    "\n",
    "config = {\"configurable\": {\"thread_id\": \"1\"}}"
   ]
  },
  {
   "cell_type": "code",
   "execution_count": 28,
   "metadata": {},
   "outputs": [
    {
     "name": "stdout",
     "output_type": "stream",
     "text": [
      "================================\u001b[1m Human Message \u001b[0m=================================\n",
      "\n",
      "Hi there! My name is Will.\n",
      "==================================\u001b[1m Ai Message \u001b[0m==================================\n",
      "\n",
      "Hello, Will! It's nice to meet you. My name is Gemini. How can I help you today?\n"
     ]
    }
   ],
   "source": [
    "user_input = \"Hi there! My name is Will.\"\n",
    "\n",
    "# The config is the **second positional argument** to stream() or invoke()!\n",
    "events = graph.stream(\n",
    "    {\"messages\": [(\"user\", user_input)]}, config, stream_mode=\"values\"\n",
    ")\n",
    "for event in events:\n",
    "    event[\"messages\"][-1].pretty_print()"
   ]
  },
  {
   "cell_type": "code",
   "execution_count": 29,
   "metadata": {},
   "outputs": [
    {
     "name": "stdout",
     "output_type": "stream",
     "text": [
      "================================\u001b[1m Human Message \u001b[0m=================================\n",
      "\n",
      "Remember my name?\n",
      "==================================\u001b[1m Ai Message \u001b[0m==================================\n",
      "\n",
      "I do not have the ability to remember your name as I am just a chatbot assistant and do not have a memory.\n"
     ]
    }
   ],
   "source": [
    "user_input = \"Remember my name?\"\n",
    "\n",
    "# The config is the **second positional argument** to stream() or invoke()!\n",
    "events = graph.stream(\n",
    "    {\"messages\": [(\"user\", user_input)]}, config, stream_mode=\"values\"\n",
    ")\n",
    "for event in events:\n",
    "    event[\"messages\"][-1].pretty_print()"
   ]
  },
  {
   "cell_type": "code",
   "execution_count": 30,
   "metadata": {},
   "outputs": [
    {
     "name": "stdout",
     "output_type": "stream",
     "text": [
      "================================\u001b[1m Human Message \u001b[0m=================================\n",
      "\n",
      "Remember my name?\n",
      "==================================\u001b[1m Ai Message \u001b[0m==================================\n",
      "\n",
      "I am Gemini, a multimodal AI language model developed by Google. I do not have a name, as I am not a person.\n"
     ]
    }
   ],
   "source": [
    "# The only difference is we change the `thread_id` here to \"2\" instead of \"1\"\n",
    "events = graph.stream(\n",
    "    {\"messages\": [(\"user\", user_input)]},\n",
    "    {\"configurable\": {\"thread_id\": \"2\"}},\n",
    "    stream_mode=\"values\",\n",
    ")\n",
    "for event in events:\n",
    "    event[\"messages\"][-1].pretty_print()"
   ]
  },
  {
   "cell_type": "code",
   "execution_count": 31,
   "metadata": {},
   "outputs": [
    {
     "ename": "ValueError",
     "evalue": "No checkpointer set",
     "output_type": "error",
     "traceback": [
      "\u001b[1;31m---------------------------------------------------------------------------\u001b[0m",
      "\u001b[1;31mValueError\u001b[0m                                Traceback (most recent call last)",
      "Cell \u001b[1;32mIn[31], line 1\u001b[0m\n\u001b[1;32m----> 1\u001b[0m snapshot \u001b[38;5;241m=\u001b[39m \u001b[43mgraph\u001b[49m\u001b[38;5;241;43m.\u001b[39;49m\u001b[43mget_state\u001b[49m\u001b[43m(\u001b[49m\u001b[43mconfig\u001b[49m\u001b[43m)\u001b[49m\n\u001b[0;32m      2\u001b[0m snapshot\n",
      "File \u001b[1;32mc:\\Users\\sunny\\Langgraph_Practice\\venv\\lib\\site-packages\\langgraph\\pregel\\__init__.py:579\u001b[0m, in \u001b[0;36mPregel.get_state\u001b[1;34m(self, config, subgraphs)\u001b[0m\n\u001b[0;32m    575\u001b[0m checkpointer: Optional[BaseCheckpointSaver] \u001b[38;5;241m=\u001b[39m config[\u001b[38;5;124m\"\u001b[39m\u001b[38;5;124mconfigurable\u001b[39m\u001b[38;5;124m\"\u001b[39m]\u001b[38;5;241m.\u001b[39mget(\n\u001b[0;32m    576\u001b[0m     CONFIG_KEY_CHECKPOINTER, \u001b[38;5;28mself\u001b[39m\u001b[38;5;241m.\u001b[39mcheckpointer\n\u001b[0;32m    577\u001b[0m )\n\u001b[0;32m    578\u001b[0m \u001b[38;5;28;01mif\u001b[39;00m \u001b[38;5;129;01mnot\u001b[39;00m checkpointer:\n\u001b[1;32m--> 579\u001b[0m     \u001b[38;5;28;01mraise\u001b[39;00m \u001b[38;5;167;01mValueError\u001b[39;00m(\u001b[38;5;124m\"\u001b[39m\u001b[38;5;124mNo checkpointer set\u001b[39m\u001b[38;5;124m\"\u001b[39m)\n\u001b[0;32m    581\u001b[0m \u001b[38;5;28;01mif\u001b[39;00m (\n\u001b[0;32m    582\u001b[0m     checkpoint_ns \u001b[38;5;241m:=\u001b[39m config[\u001b[38;5;124m\"\u001b[39m\u001b[38;5;124mconfigurable\u001b[39m\u001b[38;5;124m\"\u001b[39m]\u001b[38;5;241m.\u001b[39mget(\u001b[38;5;124m\"\u001b[39m\u001b[38;5;124mcheckpoint_ns\u001b[39m\u001b[38;5;124m\"\u001b[39m, \u001b[38;5;124m\"\u001b[39m\u001b[38;5;124m\"\u001b[39m)\n\u001b[0;32m    583\u001b[0m ) \u001b[38;5;129;01mand\u001b[39;00m CONFIG_KEY_CHECKPOINTER \u001b[38;5;129;01mnot\u001b[39;00m \u001b[38;5;129;01min\u001b[39;00m config[\u001b[38;5;124m\"\u001b[39m\u001b[38;5;124mconfigurable\u001b[39m\u001b[38;5;124m\"\u001b[39m]:\n\u001b[0;32m    584\u001b[0m     \u001b[38;5;66;03m# remove task_ids from checkpoint_ns\u001b[39;00m\n\u001b[0;32m    585\u001b[0m     recast_checkpoint_ns \u001b[38;5;241m=\u001b[39m NS_SEP\u001b[38;5;241m.\u001b[39mjoin(\n\u001b[0;32m    586\u001b[0m         part\u001b[38;5;241m.\u001b[39msplit(NS_END)[\u001b[38;5;241m0\u001b[39m] \u001b[38;5;28;01mfor\u001b[39;00m part \u001b[38;5;129;01min\u001b[39;00m checkpoint_ns\u001b[38;5;241m.\u001b[39msplit(NS_SEP)\n\u001b[0;32m    587\u001b[0m     )\n",
      "\u001b[1;31mValueError\u001b[0m: No checkpointer set"
     ]
    }
   ],
   "source": [
    "snapshot = graph.get_state(config)\n",
    "snapshot"
   ]
  },
  {
   "cell_type": "code",
   "execution_count": 34,
   "metadata": {},
   "outputs": [
    {
     "ename": "NameError",
     "evalue": "name 'snapshot' is not defined",
     "output_type": "error",
     "traceback": [
      "\u001b[1;31m---------------------------------------------------------------------------\u001b[0m",
      "\u001b[1;31mNameError\u001b[0m                                 Traceback (most recent call last)",
      "Cell \u001b[1;32mIn[34], line 1\u001b[0m\n\u001b[1;32m----> 1\u001b[0m \u001b[43msnapshot\u001b[49m\u001b[38;5;241m.\u001b[39mnext  \u001b[38;5;66;03m# (since the graph ended this turn, `next` is empty. If you fetch a state from within a graph invocation, next tells which node will execute next)\u001b[39;00m\n",
      "\u001b[1;31mNameError\u001b[0m: name 'snapshot' is not defined"
     ]
    }
   ],
   "source": [
    "snapshot.next  # (since the graph ended this turn, `next` is empty. If you fetch a state from within a graph invocation, next tells which node will execute next)"
   ]
  },
  {
   "cell_type": "code",
   "execution_count": null,
   "metadata": {},
   "outputs": [],
   "source": [
    "from langchain_openai import ChatOpenAI\n",
    "from langgraph.graph import StateGraph, MessagesState, START, END\n",
    "\n",
    "model = ChatOpenAI(model=\"gpt-4o-mini\")\n",
    "\n",
    "\n",
    "def call_model(state: MessagesState):\n",
    "    response = model.invoke(state['messages'])\n",
    "    return {\"messages\": response}\n",
    "\n",
    "workflow = StateGraph(MessagesState)\n",
    "workflow.add_node(call_model)\n",
    "workflow.add_edge(START, \"call_model\")\n",
    "workflow.add_edge(\"call_model\", END)\n",
    "app = workflow.compile()\n",
    "\n",
    "inputs = [{\"role\": \"user\", \"content\": \"hi!\"}]\n",
    "async for event in app.astream_events({\"messages\": inputs}, version=\"v1\"):\n",
    "    kind = event[\"event\"]\n",
    "    print(f\"{kind}: {event['name']}\")"
   ]
  }
 ],
 "metadata": {
  "kernelspec": {
   "display_name": "Python 3",
   "language": "python",
   "name": "python3"
  },
  "language_info": {
   "codemirror_mode": {
    "name": "ipython",
    "version": 3
   },
   "file_extension": ".py",
   "mimetype": "text/x-python",
   "name": "python",
   "nbconvert_exporter": "python",
   "pygments_lexer": "ipython3",
   "version": "3.10.14"
  }
 },
 "nbformat": 4,
 "nbformat_minor": 2
}
