{
 "cells": [
  {
   "cell_type": "markdown",
   "metadata": {},
   "source": [
    "# LangChain Expression Language(LCEL) Deepdive"
   ]
  },
  {
   "cell_type": "markdown",
   "metadata": {},
   "source": [
    "Topics:\n",
    "- Moving from old index to new pipe base index\n",
    "- Understanding ruunables\n",
    "  - RunnableParallel\n",
    "  - RunnablePassthrough\n",
    "  - RunnableLambda\n",
    "  - Assign\n",
    "- Performence improvement (inference speed)\n",
    "  - Async invoke\n",
    "  - Batch support\n",
    "  - Async Batch\n",
    "- Using Itemgetter with LCEL\n",
    "- Bind tools \n",
    "- Stream Support"
   ]
  },
  {
   "cell_type": "code",
   "execution_count": 6,
   "metadata": {},
   "outputs": [
    {
     "name": "stderr",
     "output_type": "stream",
     "text": [
      "/Users/aritra.sen/Aritra/coding/my_llm_app/.venv/lib/python3.10/site-packages/tqdm/auto.py:21: TqdmWarning: IProgress not found. Please update jupyter and ipywidgets. See https://ipywidgets.readthedocs.io/en/stable/user_install.html\n",
      "  from .autonotebook import tqdm as notebook_tqdm\n",
      "/Users/aritra.sen/Aritra/coding/my_llm_app/.venv/lib/python3.10/site-packages/transformers/utils/generic.py:311: UserWarning: torch.utils._pytree._register_pytree_node is deprecated. Please use torch.utils._pytree.register_pytree_node instead.\n",
      "  torch.utils._pytree._register_pytree_node(\n",
      "/Users/aritra.sen/Aritra/coding/my_llm_app/.venv/lib/python3.10/site-packages/transformers/utils/generic.py:311: UserWarning: torch.utils._pytree._register_pytree_node is deprecated. Please use torch.utils._pytree.register_pytree_node instead.\n",
      "  torch.utils._pytree._register_pytree_node(\n"
     ]
    }
   ],
   "source": [
    "from utils.llm import LLM"
   ]
  },
  {
   "cell_type": "code",
   "execution_count": 8,
   "metadata": {},
   "outputs": [],
   "source": [
    "llm = LLM().get_llm_together()"
   ]
  },
  {
   "cell_type": "markdown",
   "metadata": {},
   "source": [
    "### Old Syntax - Without LCEL"
   ]
  },
  {
   "cell_type": "code",
   "execution_count": 3,
   "metadata": {},
   "outputs": [],
   "source": [
    "template = 'Hi! I am learning {skill}. Can you suggest me top 5 things to learn?\\n'"
   ]
  },
  {
   "cell_type": "code",
   "execution_count": 2,
   "metadata": {},
   "outputs": [],
   "source": [
    "from langchain import PromptTemplate,  LLMChain # To create PromptTemplate and LLMChain"
   ]
  },
  {
   "cell_type": "code",
   "execution_count": 4,
   "metadata": {},
   "outputs": [
    {
     "name": "stdout",
     "output_type": "stream",
     "text": [
      "input_variables=['skill'] template='Hi! I am learning {skill}. Can you suggest me top 5 things to learn?\\n'\n"
     ]
    }
   ],
   "source": [
    "# define the input variable in Prompt Templete\n",
    "prompt = PromptTemplate(template=template, input_variables=[\"skill\"])\n",
    "print(prompt)"
   ]
  },
  {
   "cell_type": "code",
   "execution_count": 9,
   "metadata": {},
   "outputs": [
    {
     "name": "stderr",
     "output_type": "stream",
     "text": [
      "/Users/aritra.sen/Aritra/coding/my_llm_app/.venv/lib/python3.10/site-packages/langchain_core/_api/deprecation.py:119: LangChainDeprecationWarning: The class `LLMChain` was deprecated in LangChain 0.1.17 and will be removed in 0.3.0. Use RunnableSequence, e.g., `prompt | llm` instead.\n",
      "  warn_deprecated(\n"
     ]
    }
   ],
   "source": [
    "llm_chain = LLMChain(prompt=prompt, llm=llm)"
   ]
  },
  {
   "cell_type": "code",
   "execution_count": 10,
   "metadata": {},
   "outputs": [
    {
     "name": "stderr",
     "output_type": "stream",
     "text": [
      "/Users/aritra.sen/Aritra/coding/my_llm_app/.venv/lib/python3.10/site-packages/langchain_core/_api/deprecation.py:119: LangChainDeprecationWarning: The method `Chain.run` was deprecated in langchain 0.1.0 and will be removed in 0.3.0. Use invoke instead.\n",
      "  warn_deprecated(\n"
     ]
    },
    {
     "name": "stdout",
     "output_type": "stream",
     "text": [
      "\n",
      "1. **Python**: Python is the most popular language for data science. It's easy to learn and has a large community of users.\n",
      "2. **Statistics**: Understanding statistics is crucial for data science. You'll need to know concepts like mean, median, mode, standard deviation, correlation, regression, and hypothesis testing.\n",
      "3. **Data Manipulation**: You'll need to be able to clean and manipulate data using tools like Pandas and NumPy in Python.\n",
      "4. **Machine Learning**: Machine learning is a key part of data science. You'll need to understand concepts like supervised and unsupervised learning, neural networks, and deep learning.\n",
      "5. **Data Visualization**: Being able to effectively communicate your findings is important. Tools like Matplotlib, Seaborn, and Tableau can help you create clear and informative visualizations.\n",
      "\n",
      "Good luck on your data science journey! Let me know if you have any questions.\n"
     ]
    }
   ],
   "source": [
    "print(llm_chain.run('Data Science'))"
   ]
  },
  {
   "cell_type": "markdown",
   "metadata": {},
   "source": [
    "### LCEL\n",
    "- cleaner \n",
    "- Simple "
   ]
  },
  {
   "cell_type": "code",
   "execution_count": 17,
   "metadata": {},
   "outputs": [],
   "source": [
    "from langchain_core.output_parsers import StrOutputParser"
   ]
  },
  {
   "cell_type": "code",
   "execution_count": 18,
   "metadata": {},
   "outputs": [
    {
     "name": "stdout",
     "output_type": "stream",
     "text": [
      "\n",
      "1. Hadoop MapReduce: MapReduce is the core processing engine of Hadoop. It is used to process large data sets in parallel across a distributed cluster of servers.\n",
      "2. Hive: Hive is a data warehousing tool built on top of Hadoop. It provides an SQL-like interface for querying and managing large data sets stored in Hadoop.\n",
      "3. Pig: Pig is a data flow language and platform for analyzing large data sets. It is similar to SQL but is designed to work with large data sets and can handle complex data transformations.\n",
      "4. HBase: HBase is a NoSQL database built on top of Hadoop. It is used for storing and managing large, structured data sets with low latency.\n",
      "5. Spark: Spark is an open-source, distributed computing system used for big data processing. It can handle batch processing, streaming data, and machine learning tasks. It is faster than Hadoop MapReduce and can integrate with Hive, Pig, and HBase.\n",
      "\n",
      "These are the top 5 things to learn for someone starting out with Big Data. Good luck with your learning journey!\n"
     ]
    }
   ],
   "source": [
    "prompt = PromptTemplate.from_template(template=template)\n",
    "\n",
    "chain = prompt | llm \n",
    "\n",
    "print(chain.invoke({'skill':'Big Data'}))"
   ]
  },
  {
   "cell_type": "markdown",
   "metadata": {},
   "source": [
    "### Adding parser"
   ]
  },
  {
   "cell_type": "code",
   "execution_count": 19,
   "metadata": {},
   "outputs": [
    {
     "name": "stdout",
     "output_type": "stream",
     "text": [
      "\n",
      "1. Hadoop MapReduce: MapReduce is the core processing engine of Hadoop. It is used to process large data sets in parallel across a distributed cluster of servers.\n",
      "2. Hive: Hive is a data warehousing tool built on top of Hadoop. It provides an SQL-like interface for querying and managing large data sets stored in Hadoop.\n",
      "3. Pig: Pig is a data flow language and platform for analyzing large data sets. It is similar to SQL but is designed to work with large data sets and can handle complex data transformations.\n",
      "4. HBase: HBase is a NoSQL database built on top of Hadoop. It is used for storing and managing large, structured data sets with low latency.\n",
      "5. Spark: Spark is an open-source, distributed computing system used for big data processing. It can handle batch processing, streaming data, and machine learning tasks. It is faster than Hadoop MapReduce and can integrate with Hive, Pig, and HBase.\n",
      "\n",
      "These are the top 5 things to learn for someone starting out with Big Data. Good luck with your learning journey!\n"
     ]
    }
   ],
   "source": [
    "prompt = PromptTemplate.from_template(template=template)\n",
    "parser = StrOutputParser()\n",
    "\n",
    "chain = prompt | llm | parser\n",
    "\n",
    "print(chain.invoke({'skill':'Big Data'}))"
   ]
  },
  {
   "cell_type": "markdown",
   "metadata": {},
   "source": [
    "### Each class implements Invoke method"
   ]
  },
  {
   "cell_type": "code",
   "execution_count": 20,
   "metadata": {},
   "outputs": [
    {
     "data": {
      "text/plain": [
       "StringPromptValue(text='Hi! I am learning Big Data. Can you suggest me top 5 things to learn?\\n')"
      ]
     },
     "execution_count": 20,
     "metadata": {},
     "output_type": "execute_result"
    }
   ],
   "source": [
    "prompt.invoke({'skill':'Big Data'})"
   ]
  },
  {
   "cell_type": "code",
   "execution_count": 21,
   "metadata": {},
   "outputs": [
    {
     "name": "stdout",
     "output_type": "stream",
     "text": [
      "text='Hi! I am learning Big Data. Can you suggest me top 5 things to learn?\\n'\n"
     ]
    }
   ],
   "source": [
    "msg = prompt.invoke({'skill':'Big Data'})\n",
    "print(msg)"
   ]
  },
  {
   "cell_type": "code",
   "execution_count": 22,
   "metadata": {},
   "outputs": [
    {
     "name": "stdout",
     "output_type": "stream",
     "text": [
      "\n",
      "1. Hadoop MapReduce: MapReduce is the core processing engine of Hadoop. It is used to process large data sets in parallel across a distributed cluster of servers.\n",
      "2. Hive: Hive is a data warehousing tool built on top of Hadoop. It provides an SQL-like interface for querying and managing large data sets stored in Hadoop.\n",
      "3. Pig: Pig is a data flow language and platform for analyzing large data sets. It is similar to SQL but is designed to work with large data sets and can handle complex data transformations.\n",
      "4. HBase: HBase is a NoSQL database built on top of Hadoop. It is used for storing and managing large, structured data sets with low latency.\n",
      "5. Spark: Spark is an open-source, distributed computing system used for big data processing. It can handle batch processing, streaming data, and machine learning tasks. It is faster than Hadoop MapReduce and can integrate with Hive, Pig, and HBase.\n",
      "\n",
      "These are the top 5 things to learn for someone starting out with Big Data. Good luck with your learning journey!\n"
     ]
    }
   ],
   "source": [
    "print(llm.invoke(msg))"
   ]
  },
  {
   "cell_type": "markdown",
   "metadata": {},
   "source": [
    "### Runnables"
   ]
  },
  {
   "cell_type": "code",
   "execution_count": 24,
   "metadata": {},
   "outputs": [],
   "source": [
    "from langchain_core.runnables import RunnableParallel, RunnablePassthrough , RunnableLambda"
   ]
  },
  {
   "cell_type": "markdown",
   "metadata": {},
   "source": [
    "### RunnablePassthrough"
   ]
  },
  {
   "cell_type": "code",
   "execution_count": 25,
   "metadata": {},
   "outputs": [],
   "source": [
    "chain = RunnablePassthrough() | RunnablePassthrough() | RunnablePassthrough()"
   ]
  },
  {
   "cell_type": "code",
   "execution_count": 26,
   "metadata": {},
   "outputs": [
    {
     "data": {
      "text/plain": [
       "'Welcome to this youtube channel'"
      ]
     },
     "execution_count": 26,
     "metadata": {},
     "output_type": "execute_result"
    }
   ],
   "source": [
    "chain.invoke('Welcome to this youtube channel')"
   ]
  },
  {
   "cell_type": "markdown",
   "metadata": {},
   "source": [
    "### RunnableLambda"
   ]
  },
  {
   "cell_type": "code",
   "execution_count": 205,
   "metadata": {},
   "outputs": [],
   "source": [
    "def string_upper(input):\n",
    "    return input.upper()"
   ]
  },
  {
   "cell_type": "code",
   "execution_count": 28,
   "metadata": {},
   "outputs": [],
   "source": [
    "chain = RunnablePassthrough() | RunnableLambda(string_upper)"
   ]
  },
  {
   "cell_type": "code",
   "execution_count": 30,
   "metadata": {},
   "outputs": [
    {
     "data": {
      "text/plain": [
       "'WELCOME TO THIS YOUTUBE CHANNEL'"
      ]
     },
     "execution_count": 30,
     "metadata": {},
     "output_type": "execute_result"
    }
   ],
   "source": [
    "chain.invoke('Welcome to this youtube channel')"
   ]
  },
  {
   "cell_type": "markdown",
   "metadata": {},
   "source": [
    "### Invoke method with RunnableLambda"
   ]
  },
  {
   "cell_type": "code",
   "execution_count": 208,
   "metadata": {},
   "outputs": [
    {
     "ename": "AttributeError",
     "evalue": "'function' object has no attribute 'invoke'",
     "output_type": "error",
     "traceback": [
      "\u001b[0;31m---------------------------------------------------------------------------\u001b[0m",
      "\u001b[0;31mAttributeError\u001b[0m                            Traceback (most recent call last)",
      "Cell \u001b[0;32mIn[208], line 1\u001b[0m\n\u001b[0;32m----> 1\u001b[0m \u001b[43mstring_upper\u001b[49m\u001b[38;5;241;43m.\u001b[39;49m\u001b[43minvoke\u001b[49m\n",
      "\u001b[0;31mAttributeError\u001b[0m: 'function' object has no attribute 'invoke'"
     ]
    }
   ],
   "source": [
    "string_upper.invoke"
   ]
  },
  {
   "cell_type": "code",
   "execution_count": 206,
   "metadata": {},
   "outputs": [],
   "source": [
    "a = RunnableLambda(string_upper)"
   ]
  },
  {
   "cell_type": "code",
   "execution_count": 207,
   "metadata": {},
   "outputs": [
    {
     "data": {
      "text/plain": [
       "'HI'"
      ]
     },
     "execution_count": 207,
     "metadata": {},
     "output_type": "execute_result"
    }
   ],
   "source": [
    "a.invoke('Hi')"
   ]
  },
  {
   "cell_type": "markdown",
   "metadata": {},
   "source": [
    "### RunnableParallel\n",
    "- Running multiple tasks with same input \n",
    "- It also creats branches (with different functionalities)"
   ]
  },
  {
   "cell_type": "code",
   "execution_count": 75,
   "metadata": {},
   "outputs": [],
   "source": [
    "chain = RunnableParallel({'x':RunnablePassthrough(),'y':RunnablePassthrough()})"
   ]
  },
  {
   "cell_type": "code",
   "execution_count": 76,
   "metadata": {},
   "outputs": [
    {
     "data": {
      "text/plain": [
       "{'x': 'Youtube', 'y': 'Youtube'}"
      ]
     },
     "execution_count": 76,
     "metadata": {},
     "output_type": "execute_result"
    }
   ],
   "source": [
    "chain.invoke('Youtube')"
   ]
  },
  {
   "cell_type": "code",
   "execution_count": 77,
   "metadata": {},
   "outputs": [
    {
     "data": {
      "text/plain": [
       "{'x': {'Youtube': '@AritraSen', 'Blog': 'Denken'},\n",
       " 'y': {'Youtube': '@AritraSen', 'Blog': 'Denken'}}"
      ]
     },
     "execution_count": 77,
     "metadata": {},
     "output_type": "execute_result"
    }
   ],
   "source": [
    "chain.invoke({'Youtube': '@AritraSen','Blog': 'Denken'})"
   ]
  },
  {
   "cell_type": "code",
   "execution_count": 209,
   "metadata": {},
   "outputs": [],
   "source": [
    "chain = RunnableParallel({'x':RunnablePassthrough(),'Blog':lambda x: x['Blog']})"
   ]
  },
  {
   "cell_type": "code",
   "execution_count": 212,
   "metadata": {},
   "outputs": [
    {
     "data": {
      "text/plain": [
       "{'x': {'Youtube': '@AritraSen', 'Blog': 'Denken'}, 'Blog': 'Denken'}"
      ]
     },
     "execution_count": 212,
     "metadata": {},
     "output_type": "execute_result"
    }
   ],
   "source": [
    "chain.invoke({'Youtube': '@AritraSen','Blog': 'Denken'})"
   ]
  },
  {
   "cell_type": "code",
   "execution_count": 80,
   "metadata": {},
   "outputs": [],
   "source": [
    "def fetch_website(input: dict):\n",
    "    output = input.get('Website','Not found')\n",
    "    return output"
   ]
  },
  {
   "cell_type": "code",
   "execution_count": 81,
   "metadata": {},
   "outputs": [],
   "source": [
    "chain = RunnableParallel({'Website':RunnablePassthrough() | RunnableLambda(fetch_website),\n",
    "                          'Blog':lambda z: z['Blog']})"
   ]
  },
  {
   "cell_type": "code",
   "execution_count": 82,
   "metadata": {},
   "outputs": [
    {
     "data": {
      "text/plain": [
       "{'Website': 'Not found', 'Blog': 'Denken'}"
      ]
     },
     "execution_count": 82,
     "metadata": {},
     "output_type": "execute_result"
    }
   ],
   "source": [
    "chain.invoke({'Youtube': '@AritraSen','Blog': 'Denken'})"
   ]
  },
  {
   "cell_type": "code",
   "execution_count": 83,
   "metadata": {},
   "outputs": [
    {
     "data": {
      "text/plain": [
       "{'Website': 'aritrasen.com', 'Blog': 'Denken'}"
      ]
     },
     "execution_count": 83,
     "metadata": {},
     "output_type": "execute_result"
    }
   ],
   "source": [
    "chain.invoke({'Youtube': '@AritraSen','Blog': 'Denken' , 'Website' : 'aritrasen.com'})"
   ]
  },
  {
   "cell_type": "markdown",
   "metadata": {},
   "source": [
    "### Assign: for adding keys in a chain"
   ]
  },
  {
   "cell_type": "code",
   "execution_count": 84,
   "metadata": {},
   "outputs": [],
   "source": [
    "def extra_func(input):\n",
    "    return 'Happy Learning'"
   ]
  },
  {
   "cell_type": "code",
   "execution_count": 85,
   "metadata": {},
   "outputs": [],
   "source": [
    "chain = RunnableParallel({'x' : RunnablePassthrough()}).assign(exta=RunnableLambda(extra_func))"
   ]
  },
  {
   "cell_type": "code",
   "execution_count": 86,
   "metadata": {},
   "outputs": [
    {
     "data": {
      "text/plain": [
       "{'x': 'Hello', 'exta': 'Happy Learning'}"
      ]
     },
     "execution_count": 86,
     "metadata": {},
     "output_type": "execute_result"
    }
   ],
   "source": [
    "chain.invoke('Hello')"
   ]
  },
  {
   "cell_type": "markdown",
   "metadata": {},
   "source": [
    "### RAG Pipeline"
   ]
  },
  {
   "cell_type": "code",
   "execution_count": 139,
   "metadata": {},
   "outputs": [],
   "source": [
    "from langchain_community.document_loaders import TextLoader, DirectoryLoader\n",
    "from langchain.text_splitter import RecursiveCharacterTextSplitter\n",
    "from langchain_community.vectorstores import Chroma\n",
    "\n",
    "### Reading the txt files from source directory\n",
    "\n",
    "loader = DirectoryLoader('./source', glob=\"./*.txt\", loader_cls=TextLoader)\n",
    "docs = loader.load()\n",
    "\n",
    "### Creating Chunks using RecursiveCharacterTextSplitter\n",
    "\n",
    "text_splitter = RecursiveCharacterTextSplitter(\n",
    "    chunk_size=100,\n",
    "    chunk_overlap=10,\n",
    "    length_function=len\n",
    ")\n",
    "new_docs = text_splitter.split_documents(documents=docs)\n",
    "doc_strings = [doc.page_content for doc in new_docs]\n",
    "\n",
    "###  BGE Embddings\n",
    "\n",
    "from langchain.embeddings import HuggingFaceBgeEmbeddings\n",
    "\n",
    "model_name = \"BAAI/bge-base-en-v1.5\"\n",
    "model_kwargs = {'device': 'cpu'}\n",
    "encode_kwargs = {'normalize_embeddings': True} # set True to compute cosine similarity\n",
    "embeddings = HuggingFaceBgeEmbeddings(\n",
    "    model_name=model_name,\n",
    "    model_kwargs=model_kwargs,\n",
    "    encode_kwargs=encode_kwargs,\n",
    ")\n",
    "\n",
    "### Creating Retriever using Vector DB\n",
    "\n",
    "db = Chroma.from_documents(new_docs, embeddings)\n",
    "retriever = db.as_retriever(search_kwargs={\"k\": 4})"
   ]
  },
  {
   "cell_type": "code",
   "execution_count": 140,
   "metadata": {},
   "outputs": [],
   "source": [
    "template = \"\"\"Answer the question based only on the following context:\n",
    "{context}\n",
    "\n",
    "Question: {question}\n",
    "\"\"\"\n",
    "prompt = PromptTemplate.from_template(template)\n",
    "\n",
    "retrieval_chain = (\n",
    "    RunnableParallel({\"context\": retriever, \"question\": RunnablePassthrough()})\n",
    "    | prompt\n",
    "    | llm\n",
    "    | StrOutputParser()\n",
    "    )"
   ]
  },
  {
   "cell_type": "code",
   "execution_count": 141,
   "metadata": {},
   "outputs": [],
   "source": [
    "question = \"Tell me about Japan's industrial growth\" "
   ]
  },
  {
   "cell_type": "code",
   "execution_count": 142,
   "metadata": {},
   "outputs": [],
   "source": [
    "import time"
   ]
  },
  {
   "cell_type": "code",
   "execution_count": 143,
   "metadata": {},
   "outputs": [
    {
     "name": "stdout",
     "output_type": "stream",
     "text": [
      "Time taken: 2.12219500541687\n"
     ]
    }
   ],
   "source": [
    "start_time = time.time() \n",
    "\n",
    "result = retrieval_chain.invoke(question)\n",
    "\n",
    "print('Time taken:',time.time() - start_time)"
   ]
  },
  {
   "cell_type": "code",
   "execution_count": 135,
   "metadata": {},
   "outputs": [
    {
     "data": {
      "text/plain": [
       "\"\\nAnswer: According to the provided context, Japan's industrial growth is currently faster than expected, as indicated by multiple documents reporting on this development. This growth is bringing renewed hope for an industrial revival in the country.\""
      ]
     },
     "execution_count": 135,
     "metadata": {},
     "output_type": "execute_result"
    }
   ],
   "source": [
    "result"
   ]
  },
  {
   "attachments": {
    "image-2.png": {
     "image/png": "[encoded data removed]"
    }
   },
   "cell_type": "markdown",
   "metadata": {},
   "source": [
    "![image-2.png](attachment:image-2.png)"
   ]
  },
  {
   "cell_type": "markdown",
   "metadata": {},
   "source": [
    "### Performence improvement (inference speed)"
   ]
  },
  {
   "cell_type": "markdown",
   "metadata": {},
   "source": [
    "#### Async Support with ainvoke"
   ]
  },
  {
   "cell_type": "code",
   "execution_count": 144,
   "metadata": {},
   "outputs": [
    {
     "name": "stdout",
     "output_type": "stream",
     "text": [
      "Time taken: 5.507469177246094e-05\n"
     ]
    }
   ],
   "source": [
    "start_time = time.time() \n",
    "\n",
    "result = retrieval_chain.ainvoke(question)\n",
    "\n",
    "print('Time taken:',time.time() - start_time)"
   ]
  },
  {
   "cell_type": "markdown",
   "metadata": {},
   "source": [
    "#### Batch Support \n",
    " - Call model once for multiple inputs (depends on the LLM)"
   ]
  },
  {
   "cell_type": "code",
   "execution_count": 147,
   "metadata": {},
   "outputs": [
    {
     "name": "stdout",
     "output_type": "stream",
     "text": [
      "Time taken: 8.898752927780151\n"
     ]
    }
   ],
   "source": [
    "start_time = time.time() \n",
    "\n",
    "batch_output = retrieval_chain.batch([\n",
    "                        \"Tell me about Japan's industrial growth\",\n",
    "                        \"What James McIlroy is aiming in sports?\"\n",
    "                       ])\n",
    "\n",
    "print('Time taken:',time.time() - start_time)"
   ]
  },
  {
   "cell_type": "code",
   "execution_count": 161,
   "metadata": {},
   "outputs": [
    {
     "data": {
      "text/plain": [
       "['\\nAnswer: According to the given context, there is a repeated mention of \"industrial revival hope for Japan.\" However, the context does not provide specific information about Japan\\'s current industrial growth or past industrial achievements. Therefore, based on the context alone, it is not possible to give a comprehensive answer about Japan\\'s industrial growth.',\n",
       " '\\nAnswer: James McIlroy is aiming for the Madrid title in sports.']"
      ]
     },
     "execution_count": 161,
     "metadata": {},
     "output_type": "execute_result"
    }
   ],
   "source": [
    "batch_output"
   ]
  },
  {
   "cell_type": "markdown",
   "metadata": {},
   "source": [
    "### Async Batch "
   ]
  },
  {
   "cell_type": "code",
   "execution_count": 152,
   "metadata": {},
   "outputs": [
    {
     "name": "stdout",
     "output_type": "stream",
     "text": [
      "Time taken: 2.0609490871429443\n"
     ]
    },
    {
     "name": "stderr",
     "output_type": "stream",
     "text": [
      "/var/folders/zb/3gmj339s2t14d125p9p1l1d00000gn/T/ipykernel_5701/3614412974.py:3: RuntimeWarning: coroutine 'RunnableSequence.abatch' was never awaited\n",
      "  batch_output = await retrieval_chain.abatch([\n",
      "RuntimeWarning: Enable tracemalloc to get the object allocation traceback\n"
     ]
    }
   ],
   "source": [
    "start_time = time.time() \n",
    "\n",
    "batch_output = await retrieval_chain.abatch([\n",
    "                        \"Tell me about Japan's industrial growth\",\n",
    "                        \"What James McIlroy is aiming in sports?\"\n",
    "                       ])\n",
    "\n",
    "print('Time taken:',time.time() - start_time)"
   ]
  },
  {
   "cell_type": "code",
   "execution_count": 162,
   "metadata": {},
   "outputs": [
    {
     "data": {
      "text/plain": [
       "['\\nAnswer: According to the given context, there is a repeated mention of \"industrial revival hope for Japan.\" However, the context does not provide specific information about Japan\\'s current industrial growth or past industrial achievements. Therefore, based on the context alone, it is not possible to give a comprehensive answer about Japan\\'s industrial growth.',\n",
       " '\\nAnswer: James McIlroy is aiming for the Madrid title in sports.']"
      ]
     },
     "execution_count": 162,
     "metadata": {},
     "output_type": "execute_result"
    }
   ],
   "source": [
    "batch_output"
   ]
  },
  {
   "cell_type": "markdown",
   "metadata": {},
   "source": [
    "### Using itemgetter"
   ]
  },
  {
   "cell_type": "code",
   "execution_count": 186,
   "metadata": {},
   "outputs": [
    {
     "data": {
      "text/plain": [
       "{'Youtube': '@AritraSen', 'Blog': 'Denken', 'Website': 'aritrasen.com'}"
      ]
     },
     "execution_count": 186,
     "metadata": {},
     "output_type": "execute_result"
    }
   ],
   "source": [
    "my_dict = {'Youtube': '@AritraSen','Blog': 'Denken' , 'Website' : 'aritrasen.com'}\n",
    "my_dict"
   ]
  },
  {
   "cell_type": "code",
   "execution_count": 187,
   "metadata": {},
   "outputs": [],
   "source": [
    "from operator import itemgetter\n",
    "\n",
    "website = itemgetter('Website')"
   ]
  },
  {
   "cell_type": "code",
   "execution_count": 188,
   "metadata": {},
   "outputs": [
    {
     "data": {
      "text/plain": [
       "'aritrasen.com'"
      ]
     },
     "execution_count": 188,
     "metadata": {},
     "output_type": "execute_result"
    }
   ],
   "source": [
    "website(my_dict)"
   ]
  },
  {
   "cell_type": "code",
   "execution_count": 189,
   "metadata": {},
   "outputs": [],
   "source": [
    "template = \"\"\"Answer the question based only on the following context:\n",
    "{context}\n",
    "\n",
    "Question: {question}\n",
    "\n",
    "Answer in the following language: {language}\n",
    "\"\"\"\n",
    "prompt = PromptTemplate.from_template(template)\n",
    "\n",
    "\n",
    "retrieval_chain = (\n",
    "    RunnableParallel({\"context\": itemgetter('question') | retriever,\n",
    "                       \"question\": itemgetter('question'),\n",
    "                       \"language\": itemgetter('language')\n",
    "                       })\n",
    "    | prompt\n",
    "    | llm\n",
    "    | StrOutputParser()\n",
    "    )"
   ]
  },
  {
   "cell_type": "code",
   "execution_count": 193,
   "metadata": {},
   "outputs": [
    {
     "name": "stdout",
     "output_type": "stream",
     "text": [
      "\n",
      "Answer: La industria japonesa está experimentando un resurgimiento de esperanza. (The Japanese industry is experiencing a resurgence of hope.)\n",
      "\n",
      "This answer is based on the repeated mention of \"industrial revival hope for Japan\" in the context. It does not provide any specific details about the nature or causes of the industrial growth mentioned. The answer is given in Spanish as requested.\n"
     ]
    }
   ],
   "source": [
    "### itemgetter only works with dictionaries , input has to be a dict\n",
    "\n",
    "response = retrieval_chain.invoke({'question': \"Tell me about Japan's industrial growth\",\n",
    "                        'language': \"Spnish\"})\n",
    "\n",
    "print(response)"
   ]
  },
  {
   "cell_type": "markdown",
   "metadata": {},
   "source": [
    "### Bind Tools"
   ]
  },
  {
   "cell_type": "code",
   "execution_count": 175,
   "metadata": {},
   "outputs": [],
   "source": [
    "import os\n",
    "from dotenv import load_dotenv\n",
    "\n",
    "load_dotenv()\n",
    "\n",
    "\n",
    "from langchain_openai import ChatOpenAI\n",
    "\n",
    "# Now you can access your environment variables using os.environ\n",
    "os.environ['OPENAI_API_KEY'] = os.environ.get(\"OPENAI_API_KEY\")\n",
    "\n",
    "\n",
    "model = ChatOpenAI(temperature=0)"
   ]
  },
  {
   "cell_type": "code",
   "execution_count": 176,
   "metadata": {},
   "outputs": [],
   "source": [
    "import json\n",
    "from langchain_core.messages import ToolMessage\n",
    "from langchain_core.tools import tool\n",
    "from langchain_core.utils.function_calling import convert_to_openai_tool\n",
    "\n",
    "@tool\n",
    "def multiply(first_number: int, second_number: int):\n",
    "    \"\"\"Multiplies two numbers together.\"\"\"\n",
    "    return first_number * second_number\n",
    "\n",
    "model_with_tools = model.bind(tools=[convert_to_openai_tool(multiply)])"
   ]
  },
  {
   "cell_type": "code",
   "execution_count": 177,
   "metadata": {},
   "outputs": [
    {
     "name": "stderr",
     "output_type": "stream",
     "text": [
      "huggingface/tokenizers: The current process just got forked, after parallelism has already been used. Disabling parallelism to avoid deadlocks...\n",
      "To disable this warning, you can either:\n",
      "\t- Avoid using `tokenizers` before the fork if possible\n",
      "\t- Explicitly set the environment variable TOKENIZERS_PARALLELISM=(true | false)\n"
     ]
    }
   ],
   "source": [
    "response = model_with_tools.invoke('What is 35 * 46?')"
   ]
  },
  {
   "cell_type": "code",
   "execution_count": 178,
   "metadata": {},
   "outputs": [
    {
     "data": {
      "text/plain": [
       "AIMessage(content='', additional_kwargs={'tool_calls': [{'id': 'call_NknTjXhpX1CqCwuej0QKBCqq', 'function': {'arguments': '{\"first_number\":35,\"second_number\":46}', 'name': 'multiply'}, 'type': 'function'}]}, response_metadata={'token_usage': {'completion_tokens': 19, 'prompt_tokens': 69, 'total_tokens': 88}, 'model_name': 'gpt-3.5-turbo', 'system_fingerprint': None, 'finish_reason': 'tool_calls', 'logprobs': None}, id='run-696bfef5-d9be-4013-b06f-cfc3175ef8ca-0', tool_calls=[{'name': 'multiply', 'args': {'first_number': 35, 'second_number': 46}, 'id': 'call_NknTjXhpX1CqCwuej0QKBCqq'}])"
      ]
     },
     "execution_count": 178,
     "metadata": {},
     "output_type": "execute_result"
    }
   ],
   "source": [
    "response"
   ]
  },
  {
   "cell_type": "markdown",
   "metadata": {},
   "source": [
    "### Stream Support"
   ]
  },
  {
   "cell_type": "code",
   "execution_count": 214,
   "metadata": {},
   "outputs": [],
   "source": [
    "template = 'Hi! I am learning {skill}. Can you suggest me top 5 things to learn?\\n'\n",
    "\n",
    "prompt = PromptTemplate.from_template(template=template)\n",
    "\n",
    "chain = prompt | model  "
   ]
  },
  {
   "cell_type": "code",
   "execution_count": 215,
   "metadata": {},
   "outputs": [
    {
     "name": "stdout",
     "output_type": "stream",
     "text": [
      "Sure! Here are the top 5 things you should learn when studying Big Data:\n",
      "\n",
      "1. Hadoop: Hadoop is an open-source framework that allows for the distributed processing of large data sets across clusters of computers. It is essential for storing, processing, and analyzing big data.\n",
      "\n",
      "2. Apache Spark: Apache Spark is a fast and general-purpose cluster computing system that provides in-memory data processing capabilities. It is commonly used for real-time data processing and machine learning.\n",
      "\n",
      "3. Data Visualization: Data visualization is the graphical representation of information and data. Learning how to create effective visualizations can help you communicate insights from big data in a clear and concise manner.\n",
      "\n",
      "4. Machine Learning: Machine learning is a subset of artificial intelligence that focuses on developing algorithms and statistical models that enable computers to learn from and make predictions or decisions based on data. Understanding machine learning techniques can help you extract valuable insights from big data.\n",
      "\n",
      "5. Data Security and Privacy: With the increasing amount of data being collected and analyzed, it is crucial to understand data security and privacy best practices. This includes knowledge of encryption, access control, and compliance with data protection regulations."
     ]
    }
   ],
   "source": [
    "for s in chain.stream({'skill':'Big Data'}):\n",
    "    print(s.content,end='')"
   ]
  },
  {
   "cell_type": "code",
   "execution_count": null,
   "metadata": {},
   "outputs": [],
   "source": []
  }
 ],
 "metadata": {
  "kernelspec": {
   "display_name": ".venv",
   "language": "python",
   "name": "python3"
  },
  "language_info": {
   "codemirror_mode": {
    "name": "ipython",
    "version": 3
   },
   "file_extension": ".py",
   "mimetype": "text/x-python",
   "name": "python",
   "nbconvert_exporter": "python",
   "pygments_lexer": "ipython3",
   "version": "3.10.10"
  }
 },
 "nbformat": 4,
 "nbformat_minor": 2
}
